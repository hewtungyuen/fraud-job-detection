{
 "cells": [
  {
   "cell_type": "code",
   "execution_count": 85,
   "id": "8d5d1cbd",
   "metadata": {},
   "outputs": [],
   "source": [
    "import numpy as np\n",
    "import pandas as pd\n",
    "import tensorflow as tf\n",
    "import torch\n",
    "\n",
    "import nltk\n",
    "# nltk.download('punkt')\n",
    "# nltk.download('stopwords')\n",
    "# nltk.download('wordnet')\n",
    "\n",
    "import matplotlib.pyplot as plt\n",
    "import seaborn as sns\n",
    "\n",
    "from gensim.models import Word2Vec\n",
    "from keras.models import Model, Sequential\n",
    "from keras.layers import Input, Flatten, Dense, concatenate,Embedding,Reshape,LSTM,Bidirectional,SpatialDropout1D\n",
    "\n",
    "from sklearn.model_selection import train_test_split\n",
    "from sklearn import metrics\n",
    "\n",
    "RANDOM_STATE=4222"
   ]
  },
  {
   "cell_type": "code",
   "execution_count": 86,
   "id": "bce843ee",
   "metadata": {},
   "outputs": [],
   "source": [
    "df_train = pd.read_csv('final_datasets/train.csv', encoding='utf-8-sig')\n",
    "df_test = pd.read_csv('final_datasets/test.csv', encoding='utf-8-sig')\n",
    "df_valid = pd.read_csv('final_datasets/valid.csv',encoding='utf-8-sig')"
   ]
  },
  {
   "cell_type": "code",
   "execution_count": 87,
   "id": "b51932da",
   "metadata": {},
   "outputs": [
    {
     "data": {
      "text/plain": [
       "Index(['Unnamed: 0', 'title', 'department', 'salary_range', 'company_profile',\n",
       "       'description', 'requirements', 'benefits', 'telecommuting',\n",
       "       'has_company_logo', 'has_questions', 'employment_type',\n",
       "       'required_experience', 'required_education', 'industry', 'function',\n",
       "       'fraudulent', 'country', 'state', 'employment_type_Full-time',\n",
       "       'employment_type_Not specified', 'employment_type_Other',\n",
       "       'employment_type_Part-time', 'employment_type_Temporary',\n",
       "       'industry_common', 'industry_rare', 'industry_uncommon',\n",
       "       'industry_very rare', 'function_common', 'function_uncommon',\n",
       "       'country_common', 'country_rare', 'country_uncommon',\n",
       "       'country_very rare', 'state_common', 'state_rare', 'state_uncommon',\n",
       "       'state_very rare', 'title_tokens', 'company_profile_tokens',\n",
       "       'description_tokens', 'requirements_tokens', 'benefits_tokens',\n",
       "       'spelling_errors_title', 'spelling_errors_company_profile',\n",
       "       'spelling_errors_description', 'spelling_errors_requirements',\n",
       "       'spelling_errors_benefits', 'special_characters_title',\n",
       "       'special_characters_company_profile', 'special_characters_description',\n",
       "       'special_characters_requirements', 'special_characters_benefits',\n",
       "       'title_length', 'company_profile_length', 'description_length',\n",
       "       'requirements_length', 'benefits_length'],\n",
       "      dtype='object')"
      ]
     },
     "execution_count": 87,
     "metadata": {},
     "output_type": "execute_result"
    }
   ],
   "source": [
    "df_valid.columns"
   ]
  },
  {
   "cell_type": "code",
   "execution_count": 88,
   "id": "fe1ca905",
   "metadata": {},
   "outputs": [],
   "source": [
    "def one_hot_encode_column(df, column_name):\n",
    "\n",
    "    # Create dummy variables for the column\n",
    "    dummy_df = pd.get_dummies(df[column_name], prefix=column_name)\n",
    "\n",
    "    # Join the dummy variables back to the original DataFrame\n",
    "    df = pd.concat([df, dummy_df], axis=1)\n",
    "\n",
    "    # Drop the original column\n",
    "    df.drop(column_name, axis=1, inplace=True)\n",
    "\n",
    "    return df\n",
    "\n",
    "df_train.drop(columns=['department','country','state','industry','function'], inplace=True)\n",
    "df_valid.drop(columns=['department','country','state','industry','function'], inplace=True)\n",
    "df_test.drop(columns=['department','country','state','industry','function'], inplace=True)\n",
    "\n",
    "df_train = one_hot_encode_column(df_train, 'employment_type')\n",
    "df_valid = one_hot_encode_column(df_valid, 'employment_type')\n",
    "df_test = one_hot_encode_column(df_test, 'employment_type')"
   ]
  },
  {
   "cell_type": "code",
   "execution_count": 89,
   "id": "7f023a31",
   "metadata": {},
   "outputs": [
    {
     "data": {
      "text/html": [
       "<div>\n",
       "<style scoped>\n",
       "    .dataframe tbody tr th:only-of-type {\n",
       "        vertical-align: middle;\n",
       "    }\n",
       "\n",
       "    .dataframe tbody tr th {\n",
       "        vertical-align: top;\n",
       "    }\n",
       "\n",
       "    .dataframe thead th {\n",
       "        text-align: right;\n",
       "    }\n",
       "</style>\n",
       "<table border=\"1\" class=\"dataframe\">\n",
       "  <thead>\n",
       "    <tr style=\"text-align: right;\">\n",
       "      <th></th>\n",
       "      <th>Unnamed: 0</th>\n",
       "      <th>title</th>\n",
       "      <th>salary_range</th>\n",
       "      <th>company_profile</th>\n",
       "      <th>description</th>\n",
       "      <th>requirements</th>\n",
       "      <th>benefits</th>\n",
       "      <th>telecommuting</th>\n",
       "      <th>has_company_logo</th>\n",
       "      <th>has_questions</th>\n",
       "      <th>...</th>\n",
       "      <th>company_profile_length</th>\n",
       "      <th>description_length</th>\n",
       "      <th>requirements_length</th>\n",
       "      <th>benefits_length</th>\n",
       "      <th>employment_type_Contract</th>\n",
       "      <th>employment_type_Full-time</th>\n",
       "      <th>employment_type_Not specified</th>\n",
       "      <th>employment_type_Other</th>\n",
       "      <th>employment_type_Part-time</th>\n",
       "      <th>employment_type_Temporary</th>\n",
       "    </tr>\n",
       "  </thead>\n",
       "  <tbody>\n",
       "    <tr>\n",
       "      <th>0</th>\n",
       "      <td>10587</td>\n",
       "      <td>Corporate Travel Counselor On-Site</td>\n",
       "      <td>0</td>\n",
       "      <td>Christopherson Business Travel is the independ...</td>\n",
       "      <td>Full-time Corporate Travel Counselor needed to...</td>\n",
       "      <td>Proficient GDS skills, Worldspan preferredPref...</td>\n",
       "      <td>Christopherson Business Travel Benefits Portfo...</td>\n",
       "      <td>0</td>\n",
       "      <td>1</td>\n",
       "      <td>1</td>\n",
       "      <td>...</td>\n",
       "      <td>-0.139405</td>\n",
       "      <td>-1.315242</td>\n",
       "      <td>-0.578670</td>\n",
       "      <td>0.584180</td>\n",
       "      <td>0</td>\n",
       "      <td>1</td>\n",
       "      <td>0</td>\n",
       "      <td>0</td>\n",
       "      <td>0</td>\n",
       "      <td>0</td>\n",
       "    </tr>\n",
       "    <tr>\n",
       "      <th>1</th>\n",
       "      <td>10611</td>\n",
       "      <td>IT Recruiter</td>\n",
       "      <td>0</td>\n",
       "      <td>PROSULTING IS PEOPLE The ProSulting difference...</td>\n",
       "      <td>Our client a world leader in employment servic...</td>\n",
       "      <td>Qualifications: ·         Brings a “can do” at...</td>\n",
       "      <td>My client offers all of the advantages you wou...</td>\n",
       "      <td>0</td>\n",
       "      <td>1</td>\n",
       "      <td>1</td>\n",
       "      <td>...</td>\n",
       "      <td>1.341867</td>\n",
       "      <td>-0.021707</td>\n",
       "      <td>-0.479771</td>\n",
       "      <td>0.194013</td>\n",
       "      <td>0</td>\n",
       "      <td>1</td>\n",
       "      <td>0</td>\n",
       "      <td>0</td>\n",
       "      <td>0</td>\n",
       "      <td>0</td>\n",
       "    </tr>\n",
       "    <tr>\n",
       "      <th>2</th>\n",
       "      <td>14868</td>\n",
       "      <td>Application Software Engineer</td>\n",
       "      <td>0</td>\n",
       "      <td>Working at FBNAt FBN, we put farmers first. Fo...</td>\n",
       "      <td>￼FBN's primary mission is to provide farmers w...</td>\n",
       "      <td>ResponsibilitiesOnce you join our team, you wi...</td>\n",
       "      <td>Health insuranceStock optionsFarm visits!</td>\n",
       "      <td>0</td>\n",
       "      <td>1</td>\n",
       "      <td>0</td>\n",
       "      <td>...</td>\n",
       "      <td>3.219490</td>\n",
       "      <td>-0.707509</td>\n",
       "      <td>0.656781</td>\n",
       "      <td>-0.529732</td>\n",
       "      <td>0</td>\n",
       "      <td>1</td>\n",
       "      <td>0</td>\n",
       "      <td>0</td>\n",
       "      <td>0</td>\n",
       "      <td>0</td>\n",
       "    </tr>\n",
       "    <tr>\n",
       "      <th>3</th>\n",
       "      <td>15868</td>\n",
       "      <td>Release Manager</td>\n",
       "      <td>0</td>\n",
       "      <td>ForeFront (Fair Haven, NJ) is a fast-growing b...</td>\n",
       "      <td>RESPONSIBILITIES:The Release Manager will work...</td>\n",
       "      <td>REQUIREMENTS:Extremely detail oriented persona...</td>\n",
       "      <td>WHY FOREFRONT?Talented, innovative, diverse, a...</td>\n",
       "      <td>0</td>\n",
       "      <td>1</td>\n",
       "      <td>0</td>\n",
       "      <td>...</td>\n",
       "      <td>0.317404</td>\n",
       "      <td>0.476731</td>\n",
       "      <td>0.402469</td>\n",
       "      <td>0.762882</td>\n",
       "      <td>0</td>\n",
       "      <td>1</td>\n",
       "      <td>0</td>\n",
       "      <td>0</td>\n",
       "      <td>0</td>\n",
       "      <td>0</td>\n",
       "    </tr>\n",
       "    <tr>\n",
       "      <th>4</th>\n",
       "      <td>10230</td>\n",
       "      <td>Communications Manager</td>\n",
       "      <td>0</td>\n",
       "      <td>#URL_ddb080358fa5eecf5a67c649cfb4ffc343c484389...</td>\n",
       "      <td>Qualified candidates are encouraged to apply d...</td>\n",
       "      <td>Some of the desired skills and experience for ...</td>\n",
       "      <td>Our core values drive our culture. This is wha...</td>\n",
       "      <td>0</td>\n",
       "      <td>1</td>\n",
       "      <td>0</td>\n",
       "      <td>...</td>\n",
       "      <td>0.251906</td>\n",
       "      <td>1.572092</td>\n",
       "      <td>0.138739</td>\n",
       "      <td>5.117263</td>\n",
       "      <td>0</td>\n",
       "      <td>1</td>\n",
       "      <td>0</td>\n",
       "      <td>0</td>\n",
       "      <td>0</td>\n",
       "      <td>0</td>\n",
       "    </tr>\n",
       "    <tr>\n",
       "      <th>...</th>\n",
       "      <td>...</td>\n",
       "      <td>...</td>\n",
       "      <td>...</td>\n",
       "      <td>...</td>\n",
       "      <td>...</td>\n",
       "      <td>...</td>\n",
       "      <td>...</td>\n",
       "      <td>...</td>\n",
       "      <td>...</td>\n",
       "      <td>...</td>\n",
       "      <td>...</td>\n",
       "      <td>...</td>\n",
       "      <td>...</td>\n",
       "      <td>...</td>\n",
       "      <td>...</td>\n",
       "      <td>...</td>\n",
       "      <td>...</td>\n",
       "      <td>...</td>\n",
       "      <td>...</td>\n",
       "      <td>...</td>\n",
       "      <td>...</td>\n",
       "    </tr>\n",
       "    <tr>\n",
       "      <th>2677</th>\n",
       "      <td>3896</td>\n",
       "      <td>Web Developer</td>\n",
       "      <td>0</td>\n",
       "      <td>Cashie Commerce is the fastest way to create a...</td>\n",
       "      <td>The Cashie Commerce team is looking for a tale...</td>\n",
       "      <td>To perform this job successfully, an individua...</td>\n",
       "      <td>Cashie Commerce offers a competitive salary an...</td>\n",
       "      <td>0</td>\n",
       "      <td>1</td>\n",
       "      <td>1</td>\n",
       "      <td>...</td>\n",
       "      <td>0.520617</td>\n",
       "      <td>-0.546568</td>\n",
       "      <td>-0.079466</td>\n",
       "      <td>0.223797</td>\n",
       "      <td>0</td>\n",
       "      <td>1</td>\n",
       "      <td>0</td>\n",
       "      <td>0</td>\n",
       "      <td>0</td>\n",
       "      <td>0</td>\n",
       "    </tr>\n",
       "    <tr>\n",
       "      <th>2678</th>\n",
       "      <td>12171</td>\n",
       "      <td>Inside Sales Professional-Flint</td>\n",
       "      <td>0</td>\n",
       "      <td>ABC Supply Co., Inc. is the nation’s largest w...</td>\n",
       "      <td>If you are an experienced retail service profe...</td>\n",
       "      <td>As a Sales Representative, you must have the a...</td>\n",
       "      <td>As a Sales Representative, you may have opport...</td>\n",
       "      <td>0</td>\n",
       "      <td>1</td>\n",
       "      <td>0</td>\n",
       "      <td>...</td>\n",
       "      <td>0.100756</td>\n",
       "      <td>0.877883</td>\n",
       "      <td>0.485670</td>\n",
       "      <td>1.242400</td>\n",
       "      <td>0</td>\n",
       "      <td>1</td>\n",
       "      <td>0</td>\n",
       "      <td>0</td>\n",
       "      <td>0</td>\n",
       "      <td>0</td>\n",
       "    </tr>\n",
       "    <tr>\n",
       "      <th>2679</th>\n",
       "      <td>10600</td>\n",
       "      <td>Creative Director</td>\n",
       "      <td>0</td>\n",
       "      <td>hello worldtalents23_ drives the change in dig...</td>\n",
       "      <td>We are the most efficient and motivating way t...</td>\n",
       "      <td>Strong communication and leadership skillsHand...</td>\n",
       "      <td>High impact and responsibility in a very succe...</td>\n",
       "      <td>0</td>\n",
       "      <td>1</td>\n",
       "      <td>1</td>\n",
       "      <td>...</td>\n",
       "      <td>-0.853171</td>\n",
       "      <td>0.232917</td>\n",
       "      <td>0.160717</td>\n",
       "      <td>0.488872</td>\n",
       "      <td>0</td>\n",
       "      <td>1</td>\n",
       "      <td>0</td>\n",
       "      <td>0</td>\n",
       "      <td>0</td>\n",
       "      <td>0</td>\n",
       "    </tr>\n",
       "    <tr>\n",
       "      <th>2680</th>\n",
       "      <td>14327</td>\n",
       "      <td>Project Manager Marketing DACH</td>\n",
       "      <td>0</td>\n",
       "      <td>Babbel enables anyone to learn languages in an...</td>\n",
       "      <td>Negotiate, close and launch new media cooperat...</td>\n",
       "      <td>University degree (min. Bachelor’s degree or c...</td>\n",
       "      <td>Significant budget to manage and high degree o...</td>\n",
       "      <td>0</td>\n",
       "      <td>1</td>\n",
       "      <td>0</td>\n",
       "      <td>...</td>\n",
       "      <td>0.015104</td>\n",
       "      <td>-0.898476</td>\n",
       "      <td>-0.351046</td>\n",
       "      <td>0.262515</td>\n",
       "      <td>0</td>\n",
       "      <td>0</td>\n",
       "      <td>1</td>\n",
       "      <td>0</td>\n",
       "      <td>0</td>\n",
       "      <td>0</td>\n",
       "    </tr>\n",
       "    <tr>\n",
       "      <th>2681</th>\n",
       "      <td>14365</td>\n",
       "      <td>Compliance Analyst</td>\n",
       "      <td>0</td>\n",
       "      <td>Not specified</td>\n",
       "      <td>IT Compliance Analyst This analyst will work i...</td>\n",
       "      <td>Duties include but are not limited to the foll...</td>\n",
       "      <td>Not specified</td>\n",
       "      <td>0</td>\n",
       "      <td>1</td>\n",
       "      <td>0</td>\n",
       "      <td>...</td>\n",
       "      <td>-1.056384</td>\n",
       "      <td>-0.857641</td>\n",
       "      <td>-0.281973</td>\n",
       "      <td>-0.613126</td>\n",
       "      <td>0</td>\n",
       "      <td>0</td>\n",
       "      <td>1</td>\n",
       "      <td>0</td>\n",
       "      <td>0</td>\n",
       "      <td>0</td>\n",
       "    </tr>\n",
       "  </tbody>\n",
       "</table>\n",
       "<p>2682 rows × 58 columns</p>\n",
       "</div>"
      ],
      "text/plain": [
       "      Unnamed: 0                               title  salary_range  \\\n",
       "0          10587  Corporate Travel Counselor On-Site             0   \n",
       "1          10611                       IT Recruiter              0   \n",
       "2          14868       Application Software Engineer             0   \n",
       "3          15868                     Release Manager             0   \n",
       "4          10230             Communications Manager              0   \n",
       "...          ...                                 ...           ...   \n",
       "2677        3896                       Web Developer             0   \n",
       "2678       12171     Inside Sales Professional-Flint             0   \n",
       "2679       10600                   Creative Director             0   \n",
       "2680       14327      Project Manager Marketing DACH             0   \n",
       "2681       14365                  Compliance Analyst             0   \n",
       "\n",
       "                                        company_profile  \\\n",
       "0     Christopherson Business Travel is the independ...   \n",
       "1     PROSULTING IS PEOPLE The ProSulting difference...   \n",
       "2     Working at FBNAt FBN, we put farmers first. Fo...   \n",
       "3     ForeFront (Fair Haven, NJ) is a fast-growing b...   \n",
       "4     #URL_ddb080358fa5eecf5a67c649cfb4ffc343c484389...   \n",
       "...                                                 ...   \n",
       "2677  Cashie Commerce is the fastest way to create a...   \n",
       "2678  ABC Supply Co., Inc. is the nation’s largest w...   \n",
       "2679  hello worldtalents23_ drives the change in dig...   \n",
       "2680  Babbel enables anyone to learn languages in an...   \n",
       "2681                                      Not specified   \n",
       "\n",
       "                                            description  \\\n",
       "0     Full-time Corporate Travel Counselor needed to...   \n",
       "1     Our client a world leader in employment servic...   \n",
       "2     ￼FBN's primary mission is to provide farmers w...   \n",
       "3     RESPONSIBILITIES:The Release Manager will work...   \n",
       "4     Qualified candidates are encouraged to apply d...   \n",
       "...                                                 ...   \n",
       "2677  The Cashie Commerce team is looking for a tale...   \n",
       "2678  If you are an experienced retail service profe...   \n",
       "2679  We are the most efficient and motivating way t...   \n",
       "2680  Negotiate, close and launch new media cooperat...   \n",
       "2681  IT Compliance Analyst This analyst will work i...   \n",
       "\n",
       "                                           requirements  \\\n",
       "0     Proficient GDS skills, Worldspan preferredPref...   \n",
       "1     Qualifications: ·         Brings a “can do” at...   \n",
       "2     ResponsibilitiesOnce you join our team, you wi...   \n",
       "3     REQUIREMENTS:Extremely detail oriented persona...   \n",
       "4     Some of the desired skills and experience for ...   \n",
       "...                                                 ...   \n",
       "2677  To perform this job successfully, an individua...   \n",
       "2678  As a Sales Representative, you must have the a...   \n",
       "2679  Strong communication and leadership skillsHand...   \n",
       "2680  University degree (min. Bachelor’s degree or c...   \n",
       "2681  Duties include but are not limited to the foll...   \n",
       "\n",
       "                                               benefits  telecommuting  \\\n",
       "0     Christopherson Business Travel Benefits Portfo...              0   \n",
       "1     My client offers all of the advantages you wou...              0   \n",
       "2             Health insuranceStock optionsFarm visits!              0   \n",
       "3     WHY FOREFRONT?Talented, innovative, diverse, a...              0   \n",
       "4     Our core values drive our culture. This is wha...              0   \n",
       "...                                                 ...            ...   \n",
       "2677  Cashie Commerce offers a competitive salary an...              0   \n",
       "2678  As a Sales Representative, you may have opport...              0   \n",
       "2679  High impact and responsibility in a very succe...              0   \n",
       "2680  Significant budget to manage and high degree o...              0   \n",
       "2681                                      Not specified              0   \n",
       "\n",
       "      has_company_logo  has_questions  ...  company_profile_length  \\\n",
       "0                    1              1  ...               -0.139405   \n",
       "1                    1              1  ...                1.341867   \n",
       "2                    1              0  ...                3.219490   \n",
       "3                    1              0  ...                0.317404   \n",
       "4                    1              0  ...                0.251906   \n",
       "...                ...            ...  ...                     ...   \n",
       "2677                 1              1  ...                0.520617   \n",
       "2678                 1              0  ...                0.100756   \n",
       "2679                 1              1  ...               -0.853171   \n",
       "2680                 1              0  ...                0.015104   \n",
       "2681                 1              0  ...               -1.056384   \n",
       "\n",
       "      description_length  requirements_length  benefits_length  \\\n",
       "0              -1.315242            -0.578670         0.584180   \n",
       "1              -0.021707            -0.479771         0.194013   \n",
       "2              -0.707509             0.656781        -0.529732   \n",
       "3               0.476731             0.402469         0.762882   \n",
       "4               1.572092             0.138739         5.117263   \n",
       "...                  ...                  ...              ...   \n",
       "2677           -0.546568            -0.079466         0.223797   \n",
       "2678            0.877883             0.485670         1.242400   \n",
       "2679            0.232917             0.160717         0.488872   \n",
       "2680           -0.898476            -0.351046         0.262515   \n",
       "2681           -0.857641            -0.281973        -0.613126   \n",
       "\n",
       "      employment_type_Contract  employment_type_Full-time  \\\n",
       "0                            0                          1   \n",
       "1                            0                          1   \n",
       "2                            0                          1   \n",
       "3                            0                          1   \n",
       "4                            0                          1   \n",
       "...                        ...                        ...   \n",
       "2677                         0                          1   \n",
       "2678                         0                          1   \n",
       "2679                         0                          1   \n",
       "2680                         0                          0   \n",
       "2681                         0                          0   \n",
       "\n",
       "      employment_type_Not specified  employment_type_Other  \\\n",
       "0                                 0                      0   \n",
       "1                                 0                      0   \n",
       "2                                 0                      0   \n",
       "3                                 0                      0   \n",
       "4                                 0                      0   \n",
       "...                             ...                    ...   \n",
       "2677                              0                      0   \n",
       "2678                              0                      0   \n",
       "2679                              0                      0   \n",
       "2680                              1                      0   \n",
       "2681                              1                      0   \n",
       "\n",
       "      employment_type_Part-time  employment_type_Temporary  \n",
       "0                             0                          0  \n",
       "1                             0                          0  \n",
       "2                             0                          0  \n",
       "3                             0                          0  \n",
       "4                             0                          0  \n",
       "...                         ...                        ...  \n",
       "2677                          0                          0  \n",
       "2678                          0                          0  \n",
       "2679                          0                          0  \n",
       "2680                          0                          0  \n",
       "2681                          0                          0  \n",
       "\n",
       "[2682 rows x 58 columns]"
      ]
     },
     "execution_count": 89,
     "metadata": {},
     "output_type": "execute_result"
    }
   ],
   "source": [
    "df_test"
   ]
  },
  {
   "cell_type": "code",
   "execution_count": 90,
   "id": "d7ee3e5b",
   "metadata": {},
   "outputs": [],
   "source": [
    "# df_valid, df_test = train_test_split(df_test, test_size=0.5, random_state=4222, stratify=df_test['fraudulent'])"
   ]
  },
  {
   "cell_type": "code",
   "execution_count": 91,
   "id": "bf65bed6",
   "metadata": {},
   "outputs": [],
   "source": [
    "import gensim.downloader as api\n",
    "import numpy as np\n",
    "\n",
    "model = api.load(\"word2vec-google-news-300\")\n",
    "\n",
    "def get_sentence_vectors(sentence):\n",
    "    tokens = sentence.split()\n",
    "    vectors = [model[word] for word in tokens if word in model]\n",
    "    \n",
    "    if not vectors:\n",
    "        return np.zeros(100)\n",
    "    \n",
    "    sentence_vector = np.mean(vectors, axis=0)[:100]\n",
    "    return sentence_vector"
   ]
  },
  {
   "cell_type": "code",
   "execution_count": 92,
   "id": "2001a4e2",
   "metadata": {},
   "outputs": [],
   "source": [
    "def preprocess(df):\n",
    "    cols_to_drop = ['Unnamed: 0','title_tokens', 'company_profile_tokens',\n",
    "                'description_tokens', 'requirements_tokens', 'benefits_tokens']\n",
    "    df.drop(columns=cols_to_drop, inplace=True)\n",
    "    \n",
    "    text_cols = ['title', 'company_profile', 'description', 'requirements', 'benefits']\n",
    "    \n",
    "    for col in text_cols:\n",
    "        df[col] = df[col].apply(lambda x:get_sentence_vectors(x))\n",
    "    \n",
    "    return df"
   ]
  },
  {
   "cell_type": "code",
   "execution_count": 93,
   "id": "25f6553f",
   "metadata": {},
   "outputs": [],
   "source": [
    "df_test = preprocess(df_test)\n",
    "df_train = preprocess(df_train)\n",
    "df_valid = preprocess(df_valid)"
   ]
  },
  {
   "cell_type": "code",
   "execution_count": 94,
   "id": "ac8785a5",
   "metadata": {},
   "outputs": [],
   "source": [
    "embeddings = ['title', 'company_profile', 'description', 'requirements', 'benefits']"
   ]
  },
  {
   "cell_type": "code",
   "execution_count": 95,
   "id": "aebdc32e",
   "metadata": {},
   "outputs": [],
   "source": [
    "y_train = df_train['fraudulent'].values\n",
    "y_valid = df_valid['fraudulent'].values\n",
    "y_test = df_test['fraudulent'].values"
   ]
  },
  {
   "cell_type": "code",
   "execution_count": 96,
   "id": "63e18f79",
   "metadata": {},
   "outputs": [],
   "source": [
    "def convert_to_tensors(X_train_values):\n",
    "    tensors = torch.from_numpy(np.vstack(X_train_values))\n",
    "    return tf.constant(tensors.numpy(), dtype=tf.float32)"
   ]
  },
  {
   "cell_type": "code",
   "execution_count": 97,
   "id": "483c7fc9",
   "metadata": {},
   "outputs": [],
   "source": [
    "def get_tensors(df_col):\n",
    "    return convert_to_tensors(df_col.values)"
   ]
  },
  {
   "cell_type": "code",
   "execution_count": 98,
   "id": "61d2cf70",
   "metadata": {},
   "outputs": [],
   "source": [
    "X_train_title = get_tensors(df_train['title'])\n",
    "X_train_company_profile = get_tensors(df_train['company_profile'])\n",
    "X_train_description = get_tensors(df_train['description'])\n",
    "X_train_requirements = get_tensors(df_train['requirements'])\n",
    "X_train_benefits = get_tensors(df_train['benefits'])\n",
    "\n",
    "X_valid_title = get_tensors(df_valid['title'])\n",
    "X_valid_company_profile = get_tensors(df_valid['company_profile'])\n",
    "X_valid_description = get_tensors(df_valid['description'])\n",
    "X_valid_requirements = get_tensors(df_valid['requirements'])\n",
    "X_valid_benefits = get_tensors(df_valid['benefits'])\n",
    "\n",
    "X_test_title = get_tensors(df_test['title'])\n",
    "X_test_company_profile = get_tensors(df_test['company_profile'])\n",
    "X_test_description = get_tensors(df_test['description'])\n",
    "X_test_requirements = get_tensors(df_test['requirements'])\n",
    "X_test_benefits = get_tensors(df_test['benefits'])"
   ]
  },
  {
   "cell_type": "code",
   "execution_count": 99,
   "id": "e1e01540",
   "metadata": {},
   "outputs": [],
   "source": [
    "from imblearn.over_sampling import SMOTE\n",
    "smote = SMOTE(random_state=RANDOM_STATE)\n",
    "\n",
    "X_train_title,y_train_resampled = smote.fit_resample(X_train_title,y_train)\n",
    "\n",
    "X_train_company_profile,_ = smote.fit_resample(X_train_company_profile,y_train)\n",
    "\n",
    "X_train_description,_ = smote.fit_resample(X_train_description,y_train)\n",
    "\n",
    "X_train_requirements,_ = smote.fit_resample(X_train_requirements,y_train)\n",
    "\n",
    "X_train_benefits,_ = smote.fit_resample(X_train_benefits,y_train)"
   ]
  },
  {
   "cell_type": "code",
   "execution_count": 100,
   "id": "7b918097",
   "metadata": {},
   "outputs": [],
   "source": [
    "def reshape_x(X_values):\n",
    "    X_values = np.array(X_values)\n",
    "    return X_values.reshape(X_values.shape[0], 1, X_values.shape[1])\n",
    "\n",
    "def reshape_y(y_values):\n",
    "    y_values = np.array(y_values)\n",
    "    return y_values.reshape(y_values.shape[0], 1, 1)"
   ]
  },
  {
   "cell_type": "code",
   "execution_count": 101,
   "id": "f8129737",
   "metadata": {},
   "outputs": [],
   "source": [
    "X_train_title = reshape_x(X_train_title)\n",
    "X_train_company_profile = reshape_x(X_train_company_profile)\n",
    "X_train_description = reshape_x(X_train_description)\n",
    "X_train_requirements = reshape_x(X_train_requirements)\n",
    "X_train_benefits = reshape_x(X_train_benefits)\n",
    "\n",
    "X_valid_title = reshape_x(X_valid_title)\n",
    "X_valid_company_profile = reshape_x(X_valid_company_profile)\n",
    "X_valid_description = reshape_x(X_valid_description)\n",
    "X_valid_requirements = reshape_x(X_valid_requirements)\n",
    "X_valid_benefits = reshape_x(X_valid_benefits)\n",
    "\n",
    "X_test_title = reshape_x(X_test_title)\n",
    "X_test_company_profile = reshape_x(X_test_company_profile)\n",
    "X_test_description = reshape_x(X_test_description)\n",
    "X_test_requirements = reshape_x(X_test_requirements)\n",
    "X_test_benefits = reshape_x(X_test_benefits)\n",
    "\n",
    "y_train_resampled = reshape_y(y_train_resampled)\n",
    "y_valid = reshape_y(y_valid)\n",
    "y_test = reshape_y(y_test)"
   ]
  },
  {
   "cell_type": "code",
   "execution_count": 102,
   "id": "1e4e354f",
   "metadata": {},
   "outputs": [],
   "source": [
    "embeddings.append('fraudulent')\n",
    "X_train_non_text = df_train.drop(columns=embeddings).values\n",
    "X_valid_non_text = df_valid.drop(columns=embeddings).values\n",
    "X_test_non_text = df_test.drop(columns=embeddings).values"
   ]
  },
  {
   "cell_type": "code",
   "execution_count": 103,
   "id": "60c32c68",
   "metadata": {},
   "outputs": [
    {
     "data": {
      "text/plain": [
       "array([[0., 0., 1., ..., 0., 0., 0.],\n",
       "       [0., 0., 0., ..., 0., 0., 0.],\n",
       "       [0., 0., 1., ..., 0., 0., 0.],\n",
       "       ...,\n",
       "       [0., 0., 1., ..., 0., 0., 0.],\n",
       "       [0., 0., 1., ..., 0., 0., 0.],\n",
       "       [1., 0., 1., ..., 0., 0., 0.]])"
      ]
     },
     "execution_count": 103,
     "metadata": {},
     "output_type": "execute_result"
    }
   ],
   "source": [
    "X_train_non_text"
   ]
  },
  {
   "cell_type": "code",
   "execution_count": 104,
   "id": "1bdb58d0",
   "metadata": {},
   "outputs": [],
   "source": [
    "X_train_non_text, _ = smote.fit_resample(X_train_non_text,y_train)"
   ]
  },
  {
   "cell_type": "code",
   "execution_count": 105,
   "id": "2952066a",
   "metadata": {},
   "outputs": [],
   "source": [
    "def create_neural_net(input_shape):\n",
    "    model = Sequential([\n",
    "        Dense(input_shape, activation='relu', input_shape=(input_shape,)),\n",
    "        Dense(1, activation='sigmoid')\n",
    "    ])\n",
    "    model.compile(optimizer='adam', loss='binary_crossentropy', metrics=['accuracy'])\n",
    "    \n",
    "    return model"
   ]
  },
  {
   "cell_type": "code",
   "execution_count": 106,
   "id": "fdc6d6c4",
   "metadata": {},
   "outputs": [],
   "source": [
    "def create_lstm(input_shape):\n",
    "    model = Sequential([\n",
    "#         Embedding(len(embedding), output_dim=50, weights=[embedding], input_length=len(embedding), trainable=False),\n",
    "        SpatialDropout1D(0.2),\n",
    "        Bidirectional(LSTM(64, input_shape=(1, 100))),\n",
    "#        LSTM(64, input_shape=(1, 100)),\n",
    "        Dense(1, activation='sigmoid')\n",
    "    ])\n",
    "    model.compile(optimizer='adam', loss='binary_crossentropy', metrics=['accuracy'])\n",
    "    \n",
    "    return model"
   ]
  },
  {
   "cell_type": "code",
   "execution_count": 107,
   "id": "4599a4eb",
   "metadata": {},
   "outputs": [],
   "source": [
    "model_title = create_lstm(100)\n",
    "model_company_profile = create_lstm(100)\n",
    "model_description = create_lstm(100)\n",
    "model_requirements = create_lstm(100)\n",
    "model_benefits = create_lstm(100)\n",
    "model_non_text = create_neural_net(X_train_non_text.shape[1])"
   ]
  },
  {
   "cell_type": "code",
   "execution_count": 108,
   "id": "fbaba408",
   "metadata": {},
   "outputs": [
    {
     "name": "stdout",
     "output_type": "stream",
     "text": [
      "Model: \"sequential_5\"\n",
      "_________________________________________________________________\n",
      " Layer (type)                Output Shape              Param #   \n",
      "=================================================================\n",
      " dense_5 (Dense)             (None, 46)                2162      \n",
      "                                                                 \n",
      " dense_6 (Dense)             (None, 1)                 47        \n",
      "                                                                 \n",
      "=================================================================\n",
      "Total params: 2,209\n",
      "Trainable params: 2,209\n",
      "Non-trainable params: 0\n",
      "_________________________________________________________________\n"
     ]
    }
   ],
   "source": [
    "model_non_text.summary()"
   ]
  },
  {
   "cell_type": "code",
   "execution_count": 109,
   "id": "1a222625",
   "metadata": {
    "scrolled": true
   },
   "outputs": [
    {
     "name": "stdout",
     "output_type": "stream",
     "text": [
      "Epoch 1/10\n",
      "745/745 - 6s - loss: 0.5428 - accuracy: 0.7288 - val_loss: 0.4483 - val_accuracy: 0.7916 - 6s/epoch - 9ms/step\n",
      "Epoch 2/10\n",
      "745/745 - 2s - loss: 0.4876 - accuracy: 0.7650 - val_loss: 0.5268 - val_accuracy: 0.7282 - 2s/epoch - 3ms/step\n",
      "Epoch 3/10\n",
      "745/745 - 2s - loss: 0.4450 - accuracy: 0.7947 - val_loss: 0.4423 - val_accuracy: 0.7908 - 2s/epoch - 2ms/step\n",
      "Epoch 4/10\n",
      "745/745 - 2s - loss: 0.4087 - accuracy: 0.8162 - val_loss: 0.3748 - val_accuracy: 0.8367 - 2s/epoch - 3ms/step\n",
      "Epoch 5/10\n",
      "745/745 - 2s - loss: 0.3756 - accuracy: 0.8360 - val_loss: 0.4128 - val_accuracy: 0.8151 - 2s/epoch - 3ms/step\n",
      "Epoch 6/10\n",
      "745/745 - 2s - loss: 0.3485 - accuracy: 0.8524 - val_loss: 0.3999 - val_accuracy: 0.8221 - 2s/epoch - 3ms/step\n",
      "Epoch 7/10\n",
      "745/745 - 2s - loss: 0.3249 - accuracy: 0.8652 - val_loss: 0.3362 - val_accuracy: 0.8684 - 2s/epoch - 3ms/step\n",
      "Epoch 8/10\n",
      "745/745 - 2s - loss: 0.3100 - accuracy: 0.8743 - val_loss: 0.3780 - val_accuracy: 0.8415 - 2s/epoch - 3ms/step\n",
      "Epoch 9/10\n",
      "745/745 - 2s - loss: 0.2938 - accuracy: 0.8828 - val_loss: 0.3306 - val_accuracy: 0.8710 - 2s/epoch - 3ms/step\n",
      "Epoch 10/10\n",
      "745/745 - 2s - loss: 0.2822 - accuracy: 0.8868 - val_loss: 0.3095 - val_accuracy: 0.8814 - 2s/epoch - 3ms/step\n",
      "Epoch 1/10\n",
      "745/745 - 6s - loss: 0.5068 - accuracy: 0.7750 - val_loss: 0.4294 - val_accuracy: 0.8274 - 6s/epoch - 8ms/step\n",
      "Epoch 2/10\n",
      "745/745 - 2s - loss: 0.4159 - accuracy: 0.8326 - val_loss: 0.3986 - val_accuracy: 0.8266 - 2s/epoch - 3ms/step\n",
      "Epoch 3/10\n",
      "745/745 - 2s - loss: 0.3863 - accuracy: 0.8451 - val_loss: 0.3230 - val_accuracy: 0.8363 - 2s/epoch - 3ms/step\n",
      "Epoch 4/10\n",
      "745/745 - 2s - loss: 0.3763 - accuracy: 0.8455 - val_loss: 0.3585 - val_accuracy: 0.8210 - 2s/epoch - 3ms/step\n",
      "Epoch 5/10\n",
      "745/745 - 2s - loss: 0.3749 - accuracy: 0.8480 - val_loss: 0.3569 - val_accuracy: 0.8285 - 2s/epoch - 3ms/step\n",
      "Epoch 6/10\n",
      "745/745 - 2s - loss: 0.3714 - accuracy: 0.8482 - val_loss: 0.3617 - val_accuracy: 0.8255 - 2s/epoch - 3ms/step\n",
      "Epoch 7/10\n",
      "745/745 - 2s - loss: 0.3679 - accuracy: 0.8513 - val_loss: 0.3964 - val_accuracy: 0.8117 - 2s/epoch - 3ms/step\n",
      "Epoch 8/10\n",
      "745/745 - 3s - loss: 0.3582 - accuracy: 0.8548 - val_loss: 0.3317 - val_accuracy: 0.8363 - 3s/epoch - 4ms/step\n",
      "Epoch 9/10\n",
      "745/745 - 2s - loss: 0.3515 - accuracy: 0.8567 - val_loss: 0.3452 - val_accuracy: 0.8359 - 2s/epoch - 3ms/step\n",
      "Epoch 10/10\n",
      "745/745 - 2s - loss: 0.3480 - accuracy: 0.8592 - val_loss: 0.3013 - val_accuracy: 0.8430 - 2s/epoch - 3ms/step\n",
      "Epoch 1/10\n",
      "745/745 - 6s - loss: 0.5860 - accuracy: 0.7061 - val_loss: 0.5051 - val_accuracy: 0.7837 - 6s/epoch - 8ms/step\n",
      "Epoch 2/10\n",
      "745/745 - 2s - loss: 0.5383 - accuracy: 0.7377 - val_loss: 0.4919 - val_accuracy: 0.7841 - 2s/epoch - 3ms/step\n",
      "Epoch 3/10\n",
      "745/745 - 2s - loss: 0.5311 - accuracy: 0.7450 - val_loss: 0.5206 - val_accuracy: 0.7562 - 2s/epoch - 3ms/step\n",
      "Epoch 4/10\n",
      "745/745 - 2s - loss: 0.5214 - accuracy: 0.7489 - val_loss: 0.4585 - val_accuracy: 0.7957 - 2s/epoch - 3ms/step\n",
      "Epoch 5/10\n",
      "745/745 - 2s - loss: 0.5125 - accuracy: 0.7546 - val_loss: 0.4625 - val_accuracy: 0.7845 - 2s/epoch - 3ms/step\n",
      "Epoch 6/10\n",
      "745/745 - 2s - loss: 0.5051 - accuracy: 0.7561 - val_loss: 0.4555 - val_accuracy: 0.7875 - 2s/epoch - 3ms/step\n",
      "Epoch 7/10\n",
      "745/745 - 2s - loss: 0.4988 - accuracy: 0.7620 - val_loss: 0.5395 - val_accuracy: 0.7222 - 2s/epoch - 3ms/step\n",
      "Epoch 8/10\n",
      "745/745 - 2s - loss: 0.4896 - accuracy: 0.7653 - val_loss: 0.3787 - val_accuracy: 0.8497 - 2s/epoch - 3ms/step\n",
      "Epoch 9/10\n",
      "745/745 - 2s - loss: 0.4804 - accuracy: 0.7693 - val_loss: 0.4068 - val_accuracy: 0.8262 - 2s/epoch - 3ms/step\n",
      "Epoch 10/10\n",
      "745/745 - 2s - loss: 0.4735 - accuracy: 0.7746 - val_loss: 0.4613 - val_accuracy: 0.7815 - 2s/epoch - 3ms/step\n",
      "Epoch 1/10\n",
      "745/745 - 7s - loss: 0.6008 - accuracy: 0.6713 - val_loss: 0.5377 - val_accuracy: 0.8136 - 7s/epoch - 9ms/step\n",
      "Epoch 2/10\n",
      "745/745 - 2s - loss: 0.5528 - accuracy: 0.7039 - val_loss: 0.5114 - val_accuracy: 0.8125 - 2s/epoch - 3ms/step\n",
      "Epoch 3/10\n",
      "745/745 - 2s - loss: 0.5414 - accuracy: 0.7131 - val_loss: 0.4912 - val_accuracy: 0.7043 - 2s/epoch - 2ms/step\n",
      "Epoch 4/10\n",
      "745/745 - 2s - loss: 0.5345 - accuracy: 0.7159 - val_loss: 0.5205 - val_accuracy: 0.8020 - 2s/epoch - 2ms/step\n",
      "Epoch 5/10\n",
      "745/745 - 2s - loss: 0.5303 - accuracy: 0.7163 - val_loss: 0.4988 - val_accuracy: 0.6905 - 2s/epoch - 2ms/step\n",
      "Epoch 6/10\n",
      "745/745 - 2s - loss: 0.5268 - accuracy: 0.7191 - val_loss: 0.5117 - val_accuracy: 0.6801 - 2s/epoch - 2ms/step\n",
      "Epoch 7/10\n",
      "745/745 - 2s - loss: 0.5204 - accuracy: 0.7211 - val_loss: 0.4951 - val_accuracy: 0.6857 - 2s/epoch - 2ms/step\n",
      "Epoch 8/10\n",
      "745/745 - 2s - loss: 0.5134 - accuracy: 0.7263 - val_loss: 0.5583 - val_accuracy: 0.6465 - 2s/epoch - 2ms/step\n",
      "Epoch 9/10\n",
      "745/745 - 2s - loss: 0.5047 - accuracy: 0.7325 - val_loss: 0.4989 - val_accuracy: 0.8016 - 2s/epoch - 2ms/step\n",
      "Epoch 10/10\n",
      "745/745 - 2s - loss: 0.5001 - accuracy: 0.7359 - val_loss: 0.4298 - val_accuracy: 0.7226 - 2s/epoch - 2ms/step\n",
      "Epoch 1/10\n",
      "745/745 - 5s - loss: 0.6389 - accuracy: 0.6028 - val_loss: 0.6555 - val_accuracy: 0.4691 - 5s/epoch - 7ms/step\n",
      "Epoch 2/10\n",
      "745/745 - 2s - loss: 0.5944 - accuracy: 0.6437 - val_loss: 0.6262 - val_accuracy: 0.4784 - 2s/epoch - 3ms/step\n",
      "Epoch 3/10\n",
      "745/745 - 2s - loss: 0.5755 - accuracy: 0.6559 - val_loss: 0.5900 - val_accuracy: 0.4892 - 2s/epoch - 2ms/step\n",
      "Epoch 4/10\n",
      "745/745 - 2s - loss: 0.5568 - accuracy: 0.6661 - val_loss: 0.5571 - val_accuracy: 0.5019 - 2s/epoch - 3ms/step\n",
      "Epoch 5/10\n",
      "745/745 - 2s - loss: 0.5459 - accuracy: 0.6757 - val_loss: 0.5675 - val_accuracy: 0.4911 - 2s/epoch - 3ms/step\n",
      "Epoch 6/10\n",
      "745/745 - 2s - loss: 0.5374 - accuracy: 0.6788 - val_loss: 0.5509 - val_accuracy: 0.5179 - 2s/epoch - 3ms/step\n",
      "Epoch 7/10\n",
      "745/745 - 2s - loss: 0.5325 - accuracy: 0.6791 - val_loss: 0.5217 - val_accuracy: 0.5246 - 2s/epoch - 3ms/step\n",
      "Epoch 8/10\n",
      "745/745 - 2s - loss: 0.5239 - accuracy: 0.6873 - val_loss: 0.5626 - val_accuracy: 0.4866 - 2s/epoch - 3ms/step\n",
      "Epoch 9/10\n",
      "745/745 - 2s - loss: 0.5165 - accuracy: 0.6901 - val_loss: 0.4672 - val_accuracy: 0.5503 - 2s/epoch - 3ms/step\n",
      "Epoch 10/10\n",
      "745/745 - 2s - loss: 0.5115 - accuracy: 0.6945 - val_loss: 0.4914 - val_accuracy: 0.5403 - 2s/epoch - 3ms/step\n"
     ]
    },
    {
     "data": {
      "text/plain": [
       "<keras.callbacks.History at 0x1e5a747c6a0>"
      ]
     },
     "execution_count": 109,
     "metadata": {},
     "output_type": "execute_result"
    }
   ],
   "source": [
    "model_title.fit(X_train_title, y_train_resampled, validation_data=(X_valid_title, y_valid), epochs=10, verbose=2)\n",
    "model_company_profile.fit(X_train_company_profile, y_train_resampled, validation_data=(X_valid_company_profile, y_valid), epochs=10, verbose=2)\n",
    "model_description.fit(X_train_description, y_train_resampled, validation_data=(X_valid_description, y_valid), epochs=10, verbose=2)\n",
    "model_requirements.fit(X_train_requirements, y_train_resampled, validation_data=(X_valid_requirements, y_valid), epochs=10, verbose=2)\n",
    "model_benefits.fit(X_train_benefits, y_train_resampled, validation_data=(X_valid_benefits, y_valid), epochs=10, verbose=2)"
   ]
  },
  {
   "cell_type": "code",
   "execution_count": 110,
   "id": "80ff9423",
   "metadata": {},
   "outputs": [],
   "source": [
    "concatenated = concatenate([model_title.output, \n",
    "                            model_company_profile.output, \n",
    "                            model_description.output, \n",
    "                            model_requirements.output, \n",
    "                            model_benefits.output,\n",
    "                            model_non_text.output])\n",
    "\n",
    "\n",
    "dense = Dense(32, activation='relu')(concatenated)\n",
    "outputs = Dense(1, activation='sigmoid')(dense)\n",
    "\n",
    "final_model = Model(inputs=[model_title.input, \n",
    "                    model_company_profile.input, \n",
    "                    model_description.input, \n",
    "                    model_requirements.input, \n",
    "                    model_benefits.input,\n",
    "                    model_non_text.input], outputs=outputs)"
   ]
  },
  {
   "cell_type": "code",
   "execution_count": 111,
   "id": "6d30ecbd",
   "metadata": {},
   "outputs": [],
   "source": [
    "final_model.compile(optimizer=tf.keras.optimizers.Adam(learning_rate=0.001), loss='binary_crossentropy', metrics=['accuracy'])"
   ]
  },
  {
   "cell_type": "code",
   "execution_count": 112,
   "id": "9d7bb83d",
   "metadata": {
    "scrolled": true
   },
   "outputs": [
    {
     "name": "stdout",
     "output_type": "stream",
     "text": [
      "Epoch 1/10\n",
      "745/745 [==============================] - 21s 11ms/step - loss: 0.2268 - accuracy: 0.9307 - val_loss: 0.1102 - val_accuracy: 0.9601\n",
      "Epoch 2/10\n",
      "745/745 [==============================] - 5s 6ms/step - loss: 0.0899 - accuracy: 0.9692 - val_loss: 0.0954 - val_accuracy: 0.9638\n",
      "Epoch 3/10\n",
      "745/745 [==============================] - 4s 6ms/step - loss: 0.0710 - accuracy: 0.9743 - val_loss: 0.0692 - val_accuracy: 0.9754\n",
      "Epoch 4/10\n",
      "745/745 [==============================] - 4s 5ms/step - loss: 0.0544 - accuracy: 0.9819 - val_loss: 0.0758 - val_accuracy: 0.9732\n",
      "Epoch 5/10\n",
      "745/745 [==============================] - 4s 6ms/step - loss: 0.0472 - accuracy: 0.9835 - val_loss: 0.0618 - val_accuracy: 0.9817\n",
      "Epoch 6/10\n",
      "745/745 [==============================] - 4s 6ms/step - loss: 0.0398 - accuracy: 0.9863 - val_loss: 0.0646 - val_accuracy: 0.9806\n",
      "Epoch 7/10\n",
      "745/745 [==============================] - 4s 6ms/step - loss: 0.0359 - accuracy: 0.9883 - val_loss: 0.0657 - val_accuracy: 0.9795\n",
      "Epoch 8/10\n",
      "745/745 [==============================] - 4s 6ms/step - loss: 0.0306 - accuracy: 0.9896 - val_loss: 0.0712 - val_accuracy: 0.9769\n",
      "Epoch 9/10\n",
      "745/745 [==============================] - 4s 6ms/step - loss: 0.0290 - accuracy: 0.9910 - val_loss: 0.0674 - val_accuracy: 0.9791\n",
      "Epoch 10/10\n",
      "745/745 [==============================] - 4s 6ms/step - loss: 0.0278 - accuracy: 0.9907 - val_loss: 0.0615 - val_accuracy: 0.9821\n"
     ]
    },
    {
     "data": {
      "text/plain": [
       "<keras.callbacks.History at 0x1e5ae05d460>"
      ]
     },
     "execution_count": 112,
     "metadata": {},
     "output_type": "execute_result"
    }
   ],
   "source": [
    "final_model.fit([X_train_title,\n",
    "                X_train_company_profile,\n",
    "                X_train_description,\n",
    "                X_train_requirements,\n",
    "                X_train_benefits,\n",
    "                X_train_non_text], y_train_resampled, epochs=10, batch_size=32,\n",
    "                validation_data=([X_valid_title,\n",
    "                                    X_valid_company_profile,\n",
    "                                    X_valid_description,\n",
    "                                    X_valid_requirements,\n",
    "                                    X_valid_benefits,\n",
    "                                    X_valid_non_text], y_valid))"
   ]
  },
  {
   "cell_type": "code",
   "execution_count": 113,
   "id": "20eae0f1",
   "metadata": {},
   "outputs": [],
   "source": [
    "def get_confusion_matrix(actual, predicted, title):\n",
    "    cf = metrics.confusion_matrix(actual, predicted)\n",
    "    group_names = ['True Negative','False Positive','False Negative','True Positive'] \n",
    "    group_counts = ['{0:0.0f}'.format(value) for value in cf.flatten()] \n",
    "\n",
    "    labels = [f'{v1}\\n{v2}' for v1, v2 in zip(group_names,group_counts)]\n",
    "    labels = np.asarray(labels).reshape(2,2)\n",
    "\n",
    "    s = sns.heatmap(cf, annot=labels, fmt='', cmap='Blues', xticklabels=['non fraud', 'fraud'], yticklabels=['non fraud', 'fraud'])\n",
    "    s.set(xlabel='Predictions', ylabel='True Labels', title=title)\n",
    "    return s"
   ]
  },
  {
   "cell_type": "code",
   "execution_count": 115,
   "id": "de0ce345",
   "metadata": {},
   "outputs": [
    {
     "name": "stdout",
     "output_type": "stream",
     "text": [
      "745/745 [==============================] - 2s 2ms/step\n"
     ]
    },
    {
     "data": {
      "text/plain": [
       "<AxesSubplot:xlabel='Predictions', ylabel='True Labels'>"
      ]
     },
     "execution_count": 115,
     "metadata": {},
     "output_type": "execute_result"
    },
    {
     "data": {
      "image/png": "[encoded data removed]",
      "text/plain": [
       "<Figure size 432x288 with 2 Axes>"
      ]
     },
     "metadata": {
      "needs_background": "light"
     },
     "output_type": "display_data"
    }
   ],
   "source": [
    "y_pred = final_model.predict([X_train_title,\n",
    "                X_train_company_profile,\n",
    "                X_train_description,\n",
    "                X_train_requirements,\n",
    "                X_train_benefits,\n",
    "                X_train_non_text])\n",
    "\n",
    "final_output = []\n",
    "for x in y_pred:\n",
    "    if x<=0.5:\n",
    "        final_output.append([0])\n",
    "    else:\n",
    "        final_output.append([1])\n",
    "get_confusion_matrix(y_train_resampled.reshape(23820), final_output, \"\")"
   ]
  },
  {
   "cell_type": "code",
   "execution_count": 116,
   "id": "c7594547",
   "metadata": {},
   "outputs": [],
   "source": [
    "# def dwnsmple(df,df2):\n",
    "#     newdf = np.concatenate((df[:9066],df2[:100]),axis=0)\n",
    "#     return newdf"
   ]
  },
  {
   "cell_type": "code",
   "execution_count": 117,
   "id": "055e1219",
   "metadata": {},
   "outputs": [],
   "source": [
    "# X_test_title = dwnsmple(X_train_title,X_test_title)\n",
    "# X_test_company_profile = dwnsmple(X_train_company_profile,X_test_company_profile)\n",
    "# X_test_description = dwnsmple(X_train_description,X_test_description)\n",
    "# X_test_requirements = dwnsmple(X_train_requirements,X_test_requirements)\n",
    "# X_test_benefits = dwnsmple(X_train_benefits,X_test_benefits)\n",
    "# y_test_resampled = dwnsmple(y_train_resampled,y_test)\n",
    "# X_test_non_text = dwnsmple(X_train_non_text,X_test_non_text)"
   ]
  },
  {
   "cell_type": "code",
   "execution_count": 118,
   "id": "17e85244",
   "metadata": {},
   "outputs": [
    {
     "data": {
      "text/plain": [
       "(23820, 1, 100)"
      ]
     },
     "execution_count": 118,
     "metadata": {},
     "output_type": "execute_result"
    }
   ],
   "source": [
    "X_train_benefits.shape"
   ]
  },
  {
   "cell_type": "code",
   "execution_count": 119,
   "id": "10c49fc6",
   "metadata": {},
   "outputs": [],
   "source": [
    "# y_pred = final_model.predict([X_train_title,\n",
    "#                 X_train_company_profile,\n",
    "#                 X_train_description,\n",
    "#                 X_train_requirements,\n",
    "#                 X_train_benefits,\n",
    "#                 X_train_non_text])\n",
    "\n",
    "# final_output = []\n",
    "# for x in y_pred:\n",
    "#     if x<=0.5:\n",
    "#         final_output.append([0])\n",
    "#     else:\n",
    "#         final_output.append([1])\n",
    "# get_confusion_matrix(y_test.reshape(4583), final_output, \"\")"
   ]
  },
  {
   "cell_type": "code",
   "execution_count": 122,
   "id": "a6363a20",
   "metadata": {},
   "outputs": [
    {
     "name": "stdout",
     "output_type": "stream",
     "text": [
      "84/84 [==============================] - 0s 3ms/step\n"
     ]
    },
    {
     "data": {
      "text/plain": [
       "<AxesSubplot:xlabel='Predictions', ylabel='True Labels'>"
      ]
     },
     "execution_count": 122,
     "metadata": {},
     "output_type": "execute_result"
    },
    {
     "data": {
      "image/png": "[encoded data removed]",
      "text/plain": [
       "<Figure size 432x288 with 2 Axes>"
      ]
     },
     "metadata": {
      "needs_background": "light"
     },
     "output_type": "display_data"
    }
   ],
   "source": [
    "y_pred = final_model.predict([X_test_title,\n",
    "                X_test_company_profile,\n",
    "                X_test_description,\n",
    "                X_test_requirements,\n",
    "                X_test_benefits,\n",
    "                X_test_non_text])\n",
    "\n",
    "final_output = []\n",
    "for x in y_pred:\n",
    "    if x<=0.5:\n",
    "        final_output.append([0])\n",
    "    else:\n",
    "        final_output.append([1])\n",
    "get_confusion_matrix(y_test.reshape(2682), final_output, \"\")"
   ]
  },
  {
   "cell_type": "code",
   "execution_count": 132,
   "id": "56a2e2c7",
   "metadata": {},
   "outputs": [
    {
     "data": {
      "image/png": "[encoded data removed]",
      "text/plain": [
       "<Figure size 432x288 with 1 Axes>"
      ]
     },
     "metadata": {
      "needs_background": "light"
     },
     "output_type": "display_data"
    },
    {
     "name": "stdout",
     "output_type": "stream",
     "text": [
      "Accuracy: 0.975\n",
      "Precision: 0.701\n",
      "Recall: 0.846\n",
      "AUC-ROC: 0.914\n",
      "f1: 0.767\n"
     ]
    }
   ],
   "source": [
    "from sklearn.metrics import accuracy_score, precision_score, recall_score, roc_auc_score, roc_curve,f1_score\n",
    "import matplotlib.pyplot as plt\n",
    "\n",
    "accuracy = accuracy_score(y_test.reshape(2682), final_output)\n",
    "precision = precision_score(y_test.reshape(2682), final_output)\n",
    "recall = recall_score(y_test.reshape(2682), final_output)\n",
    "auc_roc = roc_auc_score(y_test.reshape(2682), final_output)\n",
    "f1 = f1_score(y_test.reshape(2682), final_output)\n",
    "\n",
    "# plot the ROC curve\n",
    "fpr, tpr, thresholds = roc_curve(y_test.reshape(2682), final_output)\n",
    "plt.plot(fpr, tpr)\n",
    "plt.xlabel('False Positive Rate')\n",
    "plt.ylabel('True Positive Rate')\n",
    "plt.title('ROC Curve')\n",
    "plt.show()\n",
    "\n",
    "# print the results\n",
    "print('Accuracy: {:.3f}'.format(accuracy))\n",
    "print('Precision: {:.3f}'.format(precision))\n",
    "print('Recall: {:.3f}'.format(recall))\n",
    "print('AUC-ROC: {:.3f}'.format(auc_roc))\n",
    "print('f1: {:.3f}'.format(f1))"
   ]
  },
  {
   "cell_type": "code",
   "execution_count": 125,
   "id": "fba1cb50",
   "metadata": {},
   "outputs": [
    {
     "data": {
      "text/plain": [
       "(2682, 1, 1)"
      ]
     },
     "execution_count": 125,
     "metadata": {},
     "output_type": "execute_result"
    }
   ],
   "source": [
    "y_test.shape"
   ]
  },
  {
   "cell_type": "code",
   "execution_count": 127,
   "id": "4f00e0d0",
   "metadata": {},
   "outputs": [
    {
     "data": {
      "text/plain": [
       "array([0, 0, 0, ..., 0, 0, 0], dtype=int64)"
      ]
     },
     "execution_count": 127,
     "metadata": {},
     "output_type": "execute_result"
    }
   ],
   "source": [
    "y_test.reshape(2682)"
   ]
  },
  {
   "cell_type": "code",
   "execution_count": 129,
   "id": "0bbdc9c6",
   "metadata": {},
   "outputs": [
    {
     "name": "stdout",
     "output_type": "stream",
     "text": [
      "84/84 [==============================] - 0s 3ms/step\n"
     ]
    },
    {
     "data": {
      "text/plain": [
       "<AxesSubplot:xlabel='Predictions', ylabel='True Labels'>"
      ]
     },
     "execution_count": 129,
     "metadata": {},
     "output_type": "execute_result"
    },
    {
     "data": {
      "image/png": "[encoded data removed]",
      "text/plain": [
       "<Figure size 432x288 with 2 Axes>"
      ]
     },
     "metadata": {
      "needs_background": "light"
     },
     "output_type": "display_data"
    }
   ],
   "source": [
    "y_pred = final_model.predict([X_test_title,\n",
    "                X_test_company_profile,\n",
    "                X_test_description,\n",
    "                X_test_requirements,\n",
    "                X_test_benefits,\n",
    "                X_test_non_text])\n",
    "\n",
    "final_output = []\n",
    "for x in y_pred:\n",
    "    if x<=0.5:\n",
    "        final_output.append([0])\n",
    "    else:\n",
    "        final_output.append([1])\n",
    "get_confusion_matrix(y_test.reshape(2682), final_output, \"\")        "
   ]
  },
  {
   "cell_type": "code",
   "execution_count": 130,
   "id": "dce84f19",
   "metadata": {},
   "outputs": [
    {
     "data": {
      "image/png": "[encoded data removed]",
      "text/plain": [
       "<Figure size 432x288 with 1 Axes>"
      ]
     },
     "metadata": {
      "needs_background": "light"
     },
     "output_type": "display_data"
    },
    {
     "name": "stdout",
     "output_type": "stream",
     "text": [
      "Accuracy: 0.900\n",
      "Precision: 0.064\n",
      "Recall: 0.077\n",
      "AUC-ROC: 0.510\n"
     ]
    }
   ],
   "source": [
    "from sklearn.metrics import accuracy_score, precision_score, recall_score, roc_auc_score, roc_curve\n",
    "import matplotlib.pyplot as plt\n",
    "\n",
    "accuracy = accuracy_score(y_valid.reshape(2682), final_output)\n",
    "precision = precision_score(y_valid.reshape(2682), final_output)\n",
    "recall = recall_score(y_valid.reshape(2682), final_output)\n",
    "auc_roc = roc_auc_score(y_valid.reshape(2682), final_output)\n",
    "\n",
    "# plot the ROC curve\n",
    "fpr, tpr, thresholds = roc_curve(y_valid.reshape(2682), final_output)\n",
    "plt.plot(fpr, tpr)\n",
    "plt.xlabel('False Positive Rate')\n",
    "plt.ylabel('True Positive Rate')\n",
    "plt.title('ROC Curve')\n",
    "plt.show()\n",
    "\n",
    "# print the results\n",
    "print('Accuracy: {:.3f}'.format(accuracy))\n",
    "print('Precision: {:.3f}'.format(precision))\n",
    "print('Recall: {:.3f}'.format(recall))\n",
    "print('AUC-ROC: {:.3f}'.format(auc_roc))"
   ]
  },
  {
   "cell_type": "code",
   "execution_count": null,
   "id": "25e7173b",
   "metadata": {},
   "outputs": [],
   "source": []
  }
 ],
 "metadata": {
  "kernelspec": {
   "display_name": "Python 3 (ipykernel)",
   "language": "python",
   "name": "python3"
  },
  "language_info": {
   "codemirror_mode": {
    "name": "ipython",
    "version": 3
   },
   "file_extension": ".py",
   "mimetype": "text/x-python",
   "name": "python",
   "nbconvert_exporter": "python",
   "pygments_lexer": "ipython3",
   "version": "3.9.7"
  }
 },
 "nbformat": 4,
 "nbformat_minor": 5
}
