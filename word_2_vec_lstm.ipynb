{
 "cells": [
  {
   "cell_type": "code",
   "execution_count": 1,
   "id": "8d5d1cbd",
   "metadata": {},
   "outputs": [],
   "source": [
    "import numpy as np\n",
    "import pandas as pd\n",
    "import tensorflow as tf\n",
    "import torch\n",
    "\n",
    "import nltk\n",
    "# nltk.download('punkt')\n",
    "# nltk.download('stopwords')\n",
    "# nltk.download('wordnet')\n",
    "\n",
    "import matplotlib.pyplot as plt\n",
    "import seaborn as sns\n",
    "\n",
    "from gensim.models import Word2Vec\n",
    "from keras.models import Model, Sequential\n",
    "from keras.layers import Input, Flatten, Dense, concatenate,Embedding,Reshape,LSTM,Bidirectional,SpatialDropout1D\n",
    "\n",
    "from sklearn.model_selection import train_test_split\n",
    "from sklearn import metrics\n",
    "\n",
    "RANDOM_STATE=4222"
   ]
  },
  {
   "cell_type": "code",
   "execution_count": 2,
   "id": "bce843ee",
   "metadata": {},
   "outputs": [],
   "source": [
    "df_train = pd.read_csv('./datasets/train.csv')\n",
    "df_valid = pd.read_csv('./datasets/valid.csv')\n",
    "df_test = pd.read_csv('./datasets/test.csv')"
   ]
  },
  {
   "cell_type": "code",
   "execution_count": 3,
   "id": "bf65bed6",
   "metadata": {},
   "outputs": [],
   "source": [
    "import gensim.downloader as api\n",
    "import numpy as np\n",
    "\n",
    "model = api.load(\"word2vec-google-news-300\")\n",
    "\n",
    "def get_sentence_vectors(sentence):\n",
    "    tokens = sentence.split()\n",
    "    vectors = [model[word] for word in tokens if word in model]\n",
    "    \n",
    "    if not vectors:\n",
    "        return np.zeros(100)\n",
    "    \n",
    "    sentence_vector = np.mean(vectors, axis=0)[:100]\n",
    "    return sentence_vector"
   ]
  },
  {
   "cell_type": "code",
   "execution_count": 4,
   "id": "2001a4e2",
   "metadata": {},
   "outputs": [],
   "source": [
    "def preprocess(df):\n",
    "    cols_to_drop = ['Unnamed: 0','title_tokens', 'company_profile_tokens',\n",
    "                'description_tokens', 'requirements_tokens', 'benefits_tokens']\n",
    "    df.drop(columns=cols_to_drop, inplace=True)\n",
    "    \n",
    "    text_cols = ['title', 'company_profile', 'description', 'requirements', 'benefits']\n",
    "    \n",
    "    for col in text_cols:\n",
    "        df[col] = df[col].apply(lambda x:get_sentence_vectors(x))\n",
    "    \n",
    "    return df"
   ]
  },
  {
   "cell_type": "code",
   "execution_count": 5,
   "id": "25f6553f",
   "metadata": {},
   "outputs": [],
   "source": [
    "df_test = preprocess(df_test)\n",
    "df_train = preprocess(df_train)\n",
    "df_valid = preprocess(df_valid)"
   ]
  },
  {
   "cell_type": "code",
   "execution_count": 6,
   "id": "ac8785a5",
   "metadata": {},
   "outputs": [],
   "source": [
    "embeddings = ['title', 'company_profile', 'description', 'requirements', 'benefits']"
   ]
  },
  {
   "cell_type": "code",
   "execution_count": 7,
   "id": "aebdc32e",
   "metadata": {},
   "outputs": [],
   "source": [
    "y_train = df_train['fraudulent'].values\n",
    "y_valid = df_valid['fraudulent'].values\n",
    "y_test = df_test['fraudulent'].values"
   ]
  },
  {
   "cell_type": "code",
   "execution_count": 8,
   "id": "63e18f79",
   "metadata": {},
   "outputs": [],
   "source": [
    "def convert_to_tensors(X_train_values):\n",
    "    tensors = torch.from_numpy(np.vstack(X_train_values))\n",
    "    return tf.constant(tensors.numpy(), dtype=tf.float32)"
   ]
  },
  {
   "cell_type": "code",
   "execution_count": 9,
   "id": "483c7fc9",
   "metadata": {},
   "outputs": [],
   "source": [
    "def get_tensors(df_col):\n",
    "    return convert_to_tensors(df_col.values)"
   ]
  },
  {
   "cell_type": "code",
   "execution_count": 10,
   "id": "61d2cf70",
   "metadata": {},
   "outputs": [],
   "source": [
    "X_train_title = get_tensors(df_train['title'])\n",
    "X_train_company_profile = get_tensors(df_train['company_profile'])\n",
    "X_train_description = get_tensors(df_train['description'])\n",
    "X_train_requirements = get_tensors(df_train['requirements'])\n",
    "X_train_benefits = get_tensors(df_train['benefits'])\n",
    "\n",
    "X_valid_title = get_tensors(df_valid['title'])\n",
    "X_valid_company_profile = get_tensors(df_valid['company_profile'])\n",
    "X_valid_description = get_tensors(df_valid['description'])\n",
    "X_valid_requirements = get_tensors(df_valid['requirements'])\n",
    "X_valid_benefits = get_tensors(df_valid['benefits'])\n",
    "\n",
    "X_test_title = get_tensors(df_test['title'])\n",
    "X_test_company_profile = get_tensors(df_test['company_profile'])\n",
    "X_test_description = get_tensors(df_test['description'])\n",
    "X_test_requirements = get_tensors(df_test['requirements'])\n",
    "X_test_benefits = get_tensors(df_test['benefits'])"
   ]
  },
  {
   "cell_type": "code",
   "execution_count": 11,
   "id": "e1e01540",
   "metadata": {},
   "outputs": [],
   "source": [
    "from imblearn.over_sampling import SMOTE\n",
    "smote = SMOTE(random_state=RANDOM_STATE)\n",
    "\n",
    "X_train_title,y_train_resampled = smote.fit_resample(X_train_title,y_train)\n",
    "\n",
    "X_train_company_profile,_ = smote.fit_resample(X_train_company_profile,y_train)\n",
    "\n",
    "X_train_description,_ = smote.fit_resample(X_train_description,y_train)\n",
    "\n",
    "X_train_requirements,_ = smote.fit_resample(X_train_requirements,y_train)\n",
    "\n",
    "X_train_benefits,_ = smote.fit_resample(X_train_benefits,y_train)"
   ]
  },
  {
   "cell_type": "code",
   "execution_count": 12,
   "id": "7b918097",
   "metadata": {},
   "outputs": [],
   "source": [
    "def reshape_x(X_values):\n",
    "    X_values = np.array(X_values)\n",
    "    return X_values.reshape(X_values.shape[0], 1, X_values.shape[1])\n",
    "\n",
    "def reshape_y(y_values):\n",
    "    y_values = np.array(y_values)\n",
    "    return y_values.reshape(y_values.shape[0], 1, 1)"
   ]
  },
  {
   "cell_type": "code",
   "execution_count": 13,
   "id": "f8129737",
   "metadata": {},
   "outputs": [],
   "source": [
    "X_train_title = reshape_x(X_train_title)\n",
    "X_train_company_profile = reshape_x(X_train_company_profile)\n",
    "X_train_description = reshape_x(X_train_description)\n",
    "X_train_requirements = reshape_x(X_train_requirements)\n",
    "X_train_benefits = reshape_x(X_train_benefits)\n",
    "\n",
    "X_valid_title = reshape_x(X_valid_title)\n",
    "X_valid_company_profile = reshape_x(X_valid_company_profile)\n",
    "X_valid_description = reshape_x(X_valid_description)\n",
    "X_valid_requirements = reshape_x(X_valid_requirements)\n",
    "X_valid_benefits = reshape_x(X_valid_benefits)\n",
    "\n",
    "X_test_title = reshape_x(X_test_title)\n",
    "X_test_company_profile = reshape_x(X_test_company_profile)\n",
    "X_test_description = reshape_x(X_test_description)\n",
    "X_test_requirements = reshape_x(X_test_requirements)\n",
    "X_test_benefits = reshape_x(X_test_benefits)\n",
    "\n",
    "y_train_resampled = reshape_y(y_train_resampled)\n",
    "y_valid = reshape_y(y_valid)\n",
    "y_test = reshape_y(y_test)"
   ]
  },
  {
   "cell_type": "code",
   "execution_count": 14,
   "id": "1e4e354f",
   "metadata": {},
   "outputs": [],
   "source": [
    "embeddings.append('fraudulent')\n",
    "X_train_non_text = df_train.drop(columns=embeddings).values\n",
    "X_valid_non_text = df_valid.drop(columns=embeddings).values\n",
    "X_test_non_text = df_test.drop(columns=embeddings).values"
   ]
  },
  {
   "cell_type": "code",
   "execution_count": 15,
   "id": "60c32c68",
   "metadata": {},
   "outputs": [
    {
     "data": {
      "text/plain": [
       "array([[ 0.        ,  0.        ,  1.        , ...,  0.17951219,\n",
       "        -0.24205516, -0.17812327],\n",
       "       [ 0.        ,  0.        ,  0.        , ...,  2.32860635,\n",
       "        -0.79209685, -0.59968275],\n",
       "       [ 0.        ,  0.        ,  1.        , ..., -0.96047205,\n",
       "         1.37274615,  0.36834274],\n",
       "       ...,\n",
       "       [ 0.        ,  0.        ,  1.        , ...,  0.2587256 ,\n",
       "         0.16500934, -0.59968275],\n",
       "       [ 0.        ,  0.        ,  1.        , ..., -0.55062877,\n",
       "        -0.21345972, -0.59968275],\n",
       "       [ 1.        ,  0.        ,  1.        , ..., -0.01335523,\n",
       "        -0.60370337, -0.44667227]])"
      ]
     },
     "execution_count": 15,
     "metadata": {},
     "output_type": "execute_result"
    }
   ],
   "source": [
    "X_train_non_text"
   ]
  },
  {
   "cell_type": "code",
   "execution_count": 16,
   "id": "1bdb58d0",
   "metadata": {},
   "outputs": [],
   "source": [
    "X_train_non_text, _ = smote.fit_resample(X_train_non_text,y_train)"
   ]
  },
  {
   "cell_type": "code",
   "execution_count": 17,
   "id": "2952066a",
   "metadata": {},
   "outputs": [],
   "source": [
    "def create_neural_net(input_shape):\n",
    "    model = Sequential([\n",
    "        Dense(input_shape, activation='relu', input_shape=(input_shape,)),\n",
    "        Dense(1, activation='sigmoid')\n",
    "    ])\n",
    "    model.compile(optimizer='adam', loss='binary_crossentropy', metrics=['accuracy'])\n",
    "    \n",
    "    return model"
   ]
  },
  {
   "cell_type": "code",
   "execution_count": 18,
   "id": "fdc6d6c4",
   "metadata": {},
   "outputs": [],
   "source": [
    "def create_lstm(input_shape):\n",
    "    model = Sequential([\n",
    "        SpatialDropout1D(0.2),\n",
    "        Bidirectional(LSTM(64, input_shape=(1, 100))),\n",
    "        Dense(1, activation='sigmoid')\n",
    "    ])\n",
    "    model.compile(optimizer='adam', loss='binary_crossentropy', metrics=['accuracy'])\n",
    "    \n",
    "    return model"
   ]
  },
  {
   "cell_type": "code",
   "execution_count": 19,
   "id": "4599a4eb",
   "metadata": {},
   "outputs": [],
   "source": [
    "model_title = create_lstm(100)\n",
    "model_company_profile = create_lstm(100)\n",
    "model_description = create_lstm(100)\n",
    "model_requirements = create_lstm(100)\n",
    "model_benefits = create_lstm(100)\n",
    "model_non_text = create_neural_net(X_train_non_text.shape[1])"
   ]
  },
  {
   "cell_type": "code",
   "execution_count": 20,
   "id": "fbaba408",
   "metadata": {},
   "outputs": [
    {
     "name": "stdout",
     "output_type": "stream",
     "text": [
      "Model: \"sequential_5\"\n",
      "_________________________________________________________________\n",
      " Layer (type)                Output Shape              Param #   \n",
      "=================================================================\n",
      " dense_5 (Dense)             (None, 40)                1640      \n",
      "                                                                 \n",
      " dense_6 (Dense)             (None, 1)                 41        \n",
      "                                                                 \n",
      "=================================================================\n",
      "Total params: 1,681\n",
      "Trainable params: 1,681\n",
      "Non-trainable params: 0\n",
      "_________________________________________________________________\n"
     ]
    }
   ],
   "source": [
    "model_non_text.summary()"
   ]
  },
  {
   "cell_type": "code",
   "execution_count": 21,
   "id": "1a222625",
   "metadata": {
    "scrolled": true
   },
   "outputs": [
    {
     "name": "stdout",
     "output_type": "stream",
     "text": [
      "Epoch 1/10\n",
      "745/745 - 6s - loss: 0.5407 - accuracy: 0.7332 - val_loss: 0.5053 - val_accuracy: 0.7390 - 6s/epoch - 8ms/step\n",
      "Epoch 2/10\n",
      "745/745 - 2s - loss: 0.4878 - accuracy: 0.7636 - val_loss: 0.5298 - val_accuracy: 0.7241 - 2s/epoch - 3ms/step\n",
      "Epoch 3/10\n",
      "745/745 - 2s - loss: 0.4475 - accuracy: 0.7938 - val_loss: 0.4268 - val_accuracy: 0.8001 - 2s/epoch - 3ms/step\n",
      "Epoch 4/10\n",
      "745/745 - 2s - loss: 0.4108 - accuracy: 0.8158 - val_loss: 0.4116 - val_accuracy: 0.8095 - 2s/epoch - 3ms/step\n",
      "Epoch 5/10\n",
      "745/745 - 2s - loss: 0.3806 - accuracy: 0.8339 - val_loss: 0.3677 - val_accuracy: 0.8445 - 2s/epoch - 3ms/step\n",
      "Epoch 6/10\n",
      "745/745 - 2s - loss: 0.3532 - accuracy: 0.8505 - val_loss: 0.3277 - val_accuracy: 0.8658 - 2s/epoch - 3ms/step\n",
      "Epoch 7/10\n",
      "745/745 - 2s - loss: 0.3300 - accuracy: 0.8632 - val_loss: 0.3403 - val_accuracy: 0.8658 - 2s/epoch - 3ms/step\n",
      "Epoch 8/10\n",
      "745/745 - 2s - loss: 0.3133 - accuracy: 0.8722 - val_loss: 0.3477 - val_accuracy: 0.8591 - 2s/epoch - 3ms/step\n",
      "Epoch 9/10\n",
      "745/745 - 2s - loss: 0.2959 - accuracy: 0.8802 - val_loss: 0.3425 - val_accuracy: 0.8598 - 2s/epoch - 3ms/step\n",
      "Epoch 10/10\n",
      "745/745 - 2s - loss: 0.2813 - accuracy: 0.8890 - val_loss: 0.3830 - val_accuracy: 0.8330 - 2s/epoch - 3ms/step\n",
      "Epoch 1/10\n",
      "745/745 - 6s - loss: 0.5083 - accuracy: 0.7736 - val_loss: 0.3729 - val_accuracy: 0.8333 - 6s/epoch - 8ms/step\n",
      "Epoch 2/10\n",
      "745/745 - 2s - loss: 0.4145 - accuracy: 0.8317 - val_loss: 0.4065 - val_accuracy: 0.8195 - 2s/epoch - 3ms/step\n",
      "Epoch 3/10\n",
      "745/745 - 2s - loss: 0.3884 - accuracy: 0.8408 - val_loss: 0.3581 - val_accuracy: 0.8151 - 2s/epoch - 3ms/step\n",
      "Epoch 4/10\n",
      "745/745 - 2s - loss: 0.3788 - accuracy: 0.8446 - val_loss: 0.3370 - val_accuracy: 0.8233 - 2s/epoch - 3ms/step\n",
      "Epoch 5/10\n",
      "745/745 - 2s - loss: 0.3720 - accuracy: 0.8490 - val_loss: 0.3868 - val_accuracy: 0.8069 - 2s/epoch - 3ms/step\n",
      "Epoch 6/10\n",
      "745/745 - 2s - loss: 0.3719 - accuracy: 0.8469 - val_loss: 0.3742 - val_accuracy: 0.8039 - 2s/epoch - 3ms/step\n",
      "Epoch 7/10\n",
      "745/745 - 2s - loss: 0.3693 - accuracy: 0.8499 - val_loss: 0.3308 - val_accuracy: 0.8244 - 2s/epoch - 3ms/step\n",
      "Epoch 8/10\n",
      "745/745 - 2s - loss: 0.3654 - accuracy: 0.8497 - val_loss: 0.3471 - val_accuracy: 0.8207 - 2s/epoch - 3ms/step\n",
      "Epoch 9/10\n",
      "745/745 - 2s - loss: 0.3607 - accuracy: 0.8510 - val_loss: 0.3361 - val_accuracy: 0.8248 - 2s/epoch - 3ms/step\n",
      "Epoch 10/10\n",
      "745/745 - 2s - loss: 0.3537 - accuracy: 0.8561 - val_loss: 0.3488 - val_accuracy: 0.8180 - 2s/epoch - 3ms/step\n",
      "Epoch 1/10\n",
      "745/745 - 5s - loss: 0.5867 - accuracy: 0.6929 - val_loss: 0.4982 - val_accuracy: 0.7867 - 5s/epoch - 7ms/step\n",
      "Epoch 2/10\n",
      "745/745 - 2s - loss: 0.5386 - accuracy: 0.7381 - val_loss: 0.5334 - val_accuracy: 0.7491 - 2s/epoch - 3ms/step\n",
      "Epoch 3/10\n",
      "745/745 - 2s - loss: 0.5303 - accuracy: 0.7455 - val_loss: 0.4737 - val_accuracy: 0.7871 - 2s/epoch - 3ms/step\n",
      "Epoch 4/10\n",
      "745/745 - 2s - loss: 0.5245 - accuracy: 0.7457 - val_loss: 0.4831 - val_accuracy: 0.7804 - 2s/epoch - 3ms/step\n",
      "Epoch 5/10\n",
      "745/745 - 2s - loss: 0.5133 - accuracy: 0.7502 - val_loss: 0.4349 - val_accuracy: 0.8084 - 2s/epoch - 3ms/step\n",
      "Epoch 6/10\n",
      "745/745 - 2s - loss: 0.5044 - accuracy: 0.7548 - val_loss: 0.4646 - val_accuracy: 0.7834 - 2s/epoch - 3ms/step\n",
      "Epoch 7/10\n",
      "745/745 - 2s - loss: 0.4960 - accuracy: 0.7607 - val_loss: 0.4654 - val_accuracy: 0.7755 - 2s/epoch - 3ms/step\n",
      "Epoch 8/10\n",
      "745/745 - 2s - loss: 0.4915 - accuracy: 0.7648 - val_loss: 0.4901 - val_accuracy: 0.7558 - 2s/epoch - 3ms/step\n",
      "Epoch 9/10\n",
      "745/745 - 2s - loss: 0.4827 - accuracy: 0.7686 - val_loss: 0.5046 - val_accuracy: 0.7461 - 2s/epoch - 3ms/step\n",
      "Epoch 10/10\n",
      "745/745 - 2s - loss: 0.4751 - accuracy: 0.7723 - val_loss: 0.4176 - val_accuracy: 0.8173 - 2s/epoch - 3ms/step\n",
      "Epoch 1/10\n",
      "745/745 - 6s - loss: 0.6016 - accuracy: 0.6738 - val_loss: 0.5924 - val_accuracy: 0.6566 - 6s/epoch - 8ms/step\n",
      "Epoch 2/10\n",
      "745/745 - 2s - loss: 0.5574 - accuracy: 0.7039 - val_loss: 0.5453 - val_accuracy: 0.7815 - 2s/epoch - 3ms/step\n",
      "Epoch 3/10\n",
      "745/745 - 2s - loss: 0.5451 - accuracy: 0.7132 - val_loss: 0.5587 - val_accuracy: 0.6532 - 2s/epoch - 3ms/step\n",
      "Epoch 4/10\n",
      "745/745 - 2s - loss: 0.5367 - accuracy: 0.7162 - val_loss: 0.5142 - val_accuracy: 0.6928 - 2s/epoch - 3ms/step\n",
      "Epoch 5/10\n",
      "745/745 - 2s - loss: 0.5301 - accuracy: 0.7196 - val_loss: 0.5482 - val_accuracy: 0.6462 - 2s/epoch - 3ms/step\n",
      "Epoch 6/10\n",
      "745/745 - 2s - loss: 0.5243 - accuracy: 0.7194 - val_loss: 0.5482 - val_accuracy: 0.6562 - 2s/epoch - 3ms/step\n",
      "Epoch 7/10\n",
      "745/745 - 2s - loss: 0.5178 - accuracy: 0.7237 - val_loss: 0.6025 - val_accuracy: 0.6018 - 2s/epoch - 3ms/step\n",
      "Epoch 8/10\n",
      "745/745 - 2s - loss: 0.5113 - accuracy: 0.7309 - val_loss: 0.5580 - val_accuracy: 0.6462 - 2s/epoch - 3ms/step\n",
      "Epoch 9/10\n",
      "745/745 - 2s - loss: 0.5070 - accuracy: 0.7295 - val_loss: 0.4692 - val_accuracy: 0.8195 - 2s/epoch - 3ms/step\n",
      "Epoch 10/10\n",
      "745/745 - 2s - loss: 0.5002 - accuracy: 0.7337 - val_loss: 0.4792 - val_accuracy: 0.6961 - 2s/epoch - 3ms/step\n",
      "Epoch 1/10\n",
      "745/745 - 5s - loss: 0.6399 - accuracy: 0.6030 - val_loss: 0.6043 - val_accuracy: 0.4784 - 5s/epoch - 7ms/step\n",
      "Epoch 2/10\n",
      "745/745 - 2s - loss: 0.5984 - accuracy: 0.6343 - val_loss: 0.6163 - val_accuracy: 0.4549 - 2s/epoch - 3ms/step\n",
      "Epoch 3/10\n",
      "745/745 - 2s - loss: 0.5743 - accuracy: 0.6542 - val_loss: 0.5245 - val_accuracy: 0.8755 - 2s/epoch - 3ms/step\n",
      "Epoch 4/10\n",
      "745/745 - 2s - loss: 0.5575 - accuracy: 0.6637 - val_loss: 0.5577 - val_accuracy: 0.4925 - 2s/epoch - 3ms/step\n",
      "Epoch 5/10\n",
      "745/745 - 2s - loss: 0.5482 - accuracy: 0.6727 - val_loss: 0.5451 - val_accuracy: 0.5101 - 2s/epoch - 3ms/step\n",
      "Epoch 6/10\n",
      "745/745 - 2s - loss: 0.5400 - accuracy: 0.6733 - val_loss: 0.5021 - val_accuracy: 0.8889 - 2s/epoch - 3ms/step\n",
      "Epoch 7/10\n",
      "745/745 - 2s - loss: 0.5310 - accuracy: 0.6818 - val_loss: 0.5087 - val_accuracy: 0.5186 - 2s/epoch - 3ms/step\n",
      "Epoch 8/10\n",
      "745/745 - 2s - loss: 0.5240 - accuracy: 0.6869 - val_loss: 0.5226 - val_accuracy: 0.5026 - 2s/epoch - 3ms/step\n",
      "Epoch 9/10\n",
      "745/745 - 2s - loss: 0.5142 - accuracy: 0.6958 - val_loss: 0.5209 - val_accuracy: 0.5108 - 2s/epoch - 3ms/step\n",
      "Epoch 10/10\n",
      "745/745 - 2s - loss: 0.5075 - accuracy: 0.6997 - val_loss: 0.5117 - val_accuracy: 0.5283 - 2s/epoch - 3ms/step\n"
     ]
    },
    {
     "data": {
      "text/plain": [
       "<keras.callbacks.History at 0x1b771f59b70>"
      ]
     },
     "execution_count": 21,
     "metadata": {},
     "output_type": "execute_result"
    }
   ],
   "source": [
    "model_title.fit(X_train_title, y_train_resampled, validation_data=(X_valid_title, y_valid), epochs=10, verbose=2)\n",
    "model_company_profile.fit(X_train_company_profile, y_train_resampled, validation_data=(X_valid_company_profile, y_valid), epochs=10, verbose=2)\n",
    "model_description.fit(X_train_description, y_train_resampled, validation_data=(X_valid_description, y_valid), epochs=10, verbose=2)\n",
    "model_requirements.fit(X_train_requirements, y_train_resampled, validation_data=(X_valid_requirements, y_valid), epochs=10, verbose=2)\n",
    "model_benefits.fit(X_train_benefits, y_train_resampled, validation_data=(X_valid_benefits, y_valid), epochs=10, verbose=2)"
   ]
  },
  {
   "cell_type": "code",
   "execution_count": 22,
   "id": "80ff9423",
   "metadata": {},
   "outputs": [],
   "source": [
    "concatenated = concatenate([model_title.output, \n",
    "                            model_company_profile.output, \n",
    "                            model_description.output, \n",
    "                            model_requirements.output, \n",
    "                            model_benefits.output,\n",
    "                            model_non_text.output])\n",
    "\n",
    "\n",
    "dense = Dense(32, activation='relu')(concatenated)\n",
    "outputs = Dense(1, activation='sigmoid')(dense)\n",
    "\n",
    "final_model = Model(inputs=[model_title.input, \n",
    "                    model_company_profile.input, \n",
    "                    model_description.input, \n",
    "                    model_requirements.input, \n",
    "                    model_benefits.input,\n",
    "                    model_non_text.input], outputs=outputs)"
   ]
  },
  {
   "cell_type": "code",
   "execution_count": 23,
   "id": "6d30ecbd",
   "metadata": {},
   "outputs": [],
   "source": [
    "final_model.compile(optimizer=tf.keras.optimizers.Adam(learning_rate=0.001), loss='binary_crossentropy', metrics=['accuracy'])"
   ]
  },
  {
   "cell_type": "code",
   "execution_count": 24,
   "id": "9d7bb83d",
   "metadata": {
    "scrolled": true
   },
   "outputs": [
    {
     "name": "stdout",
     "output_type": "stream",
     "text": [
      "Epoch 1/10\n",
      "745/745 [==============================] - 20s 10ms/step - loss: 0.2217 - accuracy: 0.9304 - val_loss: 0.1277 - val_accuracy: 0.9508\n",
      "Epoch 2/10\n",
      "745/745 [==============================] - 5s 6ms/step - loss: 0.0928 - accuracy: 0.9669 - val_loss: 0.1070 - val_accuracy: 0.9564\n",
      "Epoch 3/10\n",
      "745/745 [==============================] - 5s 7ms/step - loss: 0.0740 - accuracy: 0.9726 - val_loss: 0.0815 - val_accuracy: 0.9709\n",
      "Epoch 4/10\n",
      "745/745 [==============================] - 5s 7ms/step - loss: 0.0589 - accuracy: 0.9801 - val_loss: 0.0912 - val_accuracy: 0.9668\n",
      "Epoch 5/10\n",
      "745/745 [==============================] - 5s 7ms/step - loss: 0.0518 - accuracy: 0.9813 - val_loss: 0.0817 - val_accuracy: 0.9691\n",
      "Epoch 6/10\n",
      "745/745 [==============================] - 5s 7ms/step - loss: 0.0424 - accuracy: 0.9858 - val_loss: 0.0684 - val_accuracy: 0.9754\n",
      "Epoch 7/10\n",
      "745/745 [==============================] - 5s 6ms/step - loss: 0.0384 - accuracy: 0.9878 - val_loss: 0.0925 - val_accuracy: 0.9642\n",
      "Epoch 8/10\n",
      "745/745 [==============================] - 5s 7ms/step - loss: 0.0361 - accuracy: 0.9876 - val_loss: 0.0653 - val_accuracy: 0.9776\n",
      "Epoch 9/10\n",
      "745/745 [==============================] - 5s 7ms/step - loss: 0.0299 - accuracy: 0.9909 - val_loss: 0.0605 - val_accuracy: 0.9787\n",
      "Epoch 10/10\n",
      "745/745 [==============================] - 5s 6ms/step - loss: 0.0306 - accuracy: 0.9903 - val_loss: 0.0645 - val_accuracy: 0.9780\n"
     ]
    },
    {
     "data": {
      "text/plain": [
       "<keras.callbacks.History at 0x1b86a806050>"
      ]
     },
     "execution_count": 24,
     "metadata": {},
     "output_type": "execute_result"
    }
   ],
   "source": [
    "final_model.fit([X_train_title,\n",
    "                X_train_company_profile,\n",
    "                X_train_description,\n",
    "                X_train_requirements,\n",
    "                X_train_benefits,\n",
    "                X_train_non_text], y_train_resampled, epochs=10, batch_size=32,\n",
    "                validation_data=([X_valid_title,\n",
    "                                    X_valid_company_profile,\n",
    "                                    X_valid_description,\n",
    "                                    X_valid_requirements,\n",
    "                                    X_valid_benefits,\n",
    "                                    X_valid_non_text], y_valid))"
   ]
  },
  {
   "cell_type": "code",
   "execution_count": 25,
   "id": "20eae0f1",
   "metadata": {},
   "outputs": [],
   "source": [
    "def get_confusion_matrix(actual, predicted, title):\n",
    "    cf = metrics.confusion_matrix(actual, predicted)\n",
    "    group_names = ['True Negative','False Positive','False Negative','True Positive'] \n",
    "    group_counts = ['{0:0.0f}'.format(value) for value in cf.flatten()] \n",
    "\n",
    "    labels = [f'{v1}\\n{v2}' for v1, v2 in zip(group_names,group_counts)]\n",
    "    labels = np.asarray(labels).reshape(2,2)\n",
    "\n",
    "    s = sns.heatmap(cf, annot=labels, fmt='', cmap='Blues', xticklabels=['non fraud', 'fraud'], yticklabels=['non fraud', 'fraud'])\n",
    "    s.set(xlabel='Predictions', ylabel='True Labels', title=title)\n",
    "    return s"
   ]
  },
  {
   "cell_type": "code",
   "execution_count": 26,
   "id": "a6363a20",
   "metadata": {},
   "outputs": [
    {
     "name": "stdout",
     "output_type": "stream",
     "text": [
      "84/84 [==============================] - 3s 2ms/step\n"
     ]
    },
    {
     "data": {
      "text/plain": [
       "<AxesSubplot: xlabel='Predictions', ylabel='True Labels'>"
      ]
     },
     "execution_count": 26,
     "metadata": {},
     "output_type": "execute_result"
    },
    {
     "data": {
      "image/png": "[encoded data removed]",
      "text/plain": [
       "<Figure size 640x480 with 2 Axes>"
      ]
     },
     "metadata": {},
     "output_type": "display_data"
    }
   ],
   "source": [
    "y_pred = final_model.predict([X_test_title,\n",
    "                X_test_company_profile,\n",
    "                X_test_description,\n",
    "                X_test_requirements,\n",
    "                X_test_benefits,\n",
    "                X_test_non_text])\n",
    "\n",
    "final_output = []\n",
    "for x in y_pred:\n",
    "    if x<=0.5:\n",
    "        final_output.append([0])\n",
    "    else:\n",
    "        final_output.append([1])\n",
    "get_confusion_matrix(y_test.reshape(2682), final_output, \"\")"
   ]
  },
  {
   "cell_type": "code",
   "execution_count": 27,
   "id": "da7993c1",
   "metadata": {},
   "outputs": [
    {
     "data": {
      "text/html": [
       "<div>\n",
       "<style scoped>\n",
       "    .dataframe tbody tr th:only-of-type {\n",
       "        vertical-align: middle;\n",
       "    }\n",
       "\n",
       "    .dataframe tbody tr th {\n",
       "        vertical-align: top;\n",
       "    }\n",
       "\n",
       "    .dataframe thead th {\n",
       "        text-align: right;\n",
       "    }\n",
       "</style>\n",
       "<table border=\"1\" class=\"dataframe\">\n",
       "  <thead>\n",
       "    <tr style=\"text-align: right;\">\n",
       "      <th></th>\n",
       "      <th>Recall</th>\n",
       "      <th>Precision</th>\n",
       "      <th>F1-Score</th>\n",
       "      <th>Accuracy</th>\n",
       "      <th>ROC AUC</th>\n",
       "    </tr>\n",
       "  </thead>\n",
       "  <tbody>\n",
       "    <tr>\n",
       "      <th>0</th>\n",
       "      <td>0.869231</td>\n",
       "      <td>0.624309</td>\n",
       "      <td>0.726688</td>\n",
       "      <td>0.968307</td>\n",
       "      <td>0.921293</td>\n",
       "    </tr>\n",
       "  </tbody>\n",
       "</table>\n",
       "</div>"
      ],
      "text/plain": [
       "     Recall  Precision  F1-Score  Accuracy   ROC AUC\n",
       "0  0.869231   0.624309  0.726688  0.968307  0.921293"
      ]
     },
     "execution_count": 27,
     "metadata": {},
     "output_type": "execute_result"
    }
   ],
   "source": [
    "metrics = {\n",
    "    'Recall': [metrics.recall_score(y_test.reshape(2682),final_output)],\n",
    "    'Precision': [metrics.precision_score(y_test.reshape(2682),final_output)],\n",
    "    'F1-Score': [metrics.f1_score(y_test.reshape(2682),final_output)],\n",
    "    'Accuracy': [metrics.accuracy_score(y_test.reshape(2682),final_output)],\n",
    "    'ROC AUC': [metrics.roc_auc_score(y_test.reshape(2682),final_output)],\n",
    "}\n",
    "\n",
    "df_metrics = pd.DataFrame(metrics)\n",
    "df_metrics"
   ]
  },
  {
   "cell_type": "code",
   "execution_count": null,
   "id": "25e7173b",
   "metadata": {},
   "outputs": [],
   "source": []
  }
 ],
 "metadata": {
  "kernelspec": {
   "display_name": "Python 3 (ipykernel)",
   "language": "python",
   "name": "python3"
  },
  "language_info": {
   "codemirror_mode": {
    "name": "ipython",
    "version": 3
   },
   "file_extension": ".py",
   "mimetype": "text/x-python",
   "name": "python",
   "nbconvert_exporter": "python",
   "pygments_lexer": "ipython3",
   "version": "3.10.7"
  }
 },
 "nbformat": 4,
 "nbformat_minor": 5
}
