{
 "cells": [
  {
   "cell_type": "code",
   "execution_count": 1,
   "id": "1618e9a7",
   "metadata": {},
   "outputs": [],
   "source": [
    "import numpy as np\n",
    "import pandas as pd\n",
    "import tensorflow as tf\n",
    "import torch\n",
    "\n",
    "import nltk\n",
    "# nltk.download('punkt')\n",
    "# nltk.download('stopwords')\n",
    "# nltk.download('wordnet')\n",
    "\n",
    "import matplotlib.pyplot as plt\n",
    "import seaborn as sns\n",
    "\n",
    "from gensim.models import Word2Vec\n",
    "from keras.models import Model, Sequential\n",
    "from keras.layers import Input, Flatten, Dense, concatenate, Dropout\n",
    "from keras.callbacks import EarlyStopping\n",
    "\n",
    "from sklearn.model_selection import train_test_split\n",
    "from sklearn import metrics\n",
    "\n",
    "import gensim.downloader as api\n",
    "import numpy as np\n",
    "\n",
    "RANDOM_STATE=4222"
   ]
  },
  {
   "cell_type": "code",
   "execution_count": 2,
   "id": "305d93ee",
   "metadata": {},
   "outputs": [],
   "source": [
    "df_train = pd.read_csv('./datasets/train.csv')\n",
    "df_valid = pd.read_csv('./datasets/valid.csv')\n",
    "df_test = pd.read_csv('./datasets/test.csv')"
   ]
  },
  {
   "cell_type": "code",
   "execution_count": 3,
   "id": "d0f963d0",
   "metadata": {},
   "outputs": [],
   "source": [
    "model = api.load(\"word2vec-google-news-300\")"
   ]
  },
  {
   "cell_type": "code",
   "execution_count": 4,
   "id": "5483a33c",
   "metadata": {},
   "outputs": [],
   "source": [
    "def get_sentence_vectors(sentence):\n",
    "    tokens = sentence.split()\n",
    "    vectors = [model[word] for word in tokens if word in model]\n",
    "    \n",
    "    if not vectors:\n",
    "        return np.zeros(100)\n",
    "    \n",
    "    sentence_vector = np.mean(vectors, axis=0)[:100]\n",
    "    return sentence_vector"
   ]
  },
  {
   "cell_type": "code",
   "execution_count": 5,
   "id": "a31092c9",
   "metadata": {
    "scrolled": true
   },
   "outputs": [
    {
     "name": "stdout",
     "output_type": "stream",
     "text": [
      "title done\n",
      "company_profile done\n",
      "description done\n",
      "requirements done\n",
      "benefits done\n"
     ]
    }
   ],
   "source": [
    "for c in ['title', 'company_profile', 'description', 'requirements', 'benefits']:\n",
    "    df_train[c] = df_train[c].apply(lambda x: get_sentence_vectors(x))\n",
    "    df_valid[c] = df_valid[c].apply(lambda x: get_sentence_vectors(x))\n",
    "    df_test[c] = df_test[c].apply(lambda x: get_sentence_vectors(x))\n",
    "    \n",
    "    print(c + ' done')"
   ]
  },
  {
   "cell_type": "code",
   "execution_count": 6,
   "id": "8dd90180",
   "metadata": {},
   "outputs": [],
   "source": [
    "y_train = df_train['fraudulent'].values\n",
    "y_valid = df_valid['fraudulent'].values\n",
    "y_test = df_test['fraudulent'].values"
   ]
  },
  {
   "cell_type": "code",
   "execution_count": 7,
   "id": "8ca32c21",
   "metadata": {},
   "outputs": [],
   "source": [
    "def convert_to_tensors(X_train_values):\n",
    "    tensors = torch.from_numpy(np.vstack(X_train_values))\n",
    "    return tf.constant(tensors.numpy(), dtype=tf.float32)\n",
    "\n",
    "def get_tensors(df_col):\n",
    "    return convert_to_tensors(df_col.values)"
   ]
  },
  {
   "cell_type": "code",
   "execution_count": 8,
   "id": "fa33b9d3",
   "metadata": {},
   "outputs": [],
   "source": [
    "X_train_title = get_tensors(df_train['title'])\n",
    "X_train_company_profile = get_tensors(df_train['company_profile'])\n",
    "X_train_description = get_tensors(df_train['description'])\n",
    "X_train_requirements = get_tensors(df_train['requirements'])\n",
    "X_train_benefits = get_tensors(df_train['benefits'])\n",
    "\n",
    "X_valid_title = get_tensors(df_valid['title'])\n",
    "X_valid_company_profile = get_tensors(df_valid['company_profile'])\n",
    "X_valid_description = get_tensors(df_valid['description'])\n",
    "X_valid_requirements = get_tensors(df_valid['requirements'])\n",
    "X_valid_benefits = get_tensors(df_valid['benefits'])\n",
    "\n",
    "X_test_title = get_tensors(df_test['title'])\n",
    "X_test_company_profile = get_tensors(df_test['company_profile'])\n",
    "X_test_description = get_tensors(df_test['description'])\n",
    "X_test_requirements = get_tensors(df_test['requirements'])\n",
    "X_test_benefits = get_tensors(df_test['benefits'])"
   ]
  },
  {
   "cell_type": "code",
   "execution_count": 9,
   "id": "7814ac30",
   "metadata": {},
   "outputs": [],
   "source": [
    "from imblearn.over_sampling import SMOTE\n",
    "smote = SMOTE(random_state=RANDOM_STATE)\n",
    "\n",
    "X_train_title,y_train_resampled = smote.fit_resample(X_train_title,y_train)\n",
    "\n",
    "X_train_company_profile,_ = smote.fit_resample(X_train_company_profile,y_train)\n",
    "\n",
    "X_train_description,_ = smote.fit_resample(X_train_description,y_train)\n",
    "\n",
    "X_train_requirements,_ = smote.fit_resample(X_train_requirements,y_train)\n",
    "\n",
    "X_train_benefits,_ = smote.fit_resample(X_train_benefits,y_train)"
   ]
  },
  {
   "cell_type": "code",
   "execution_count": 10,
   "id": "ae9f3d92",
   "metadata": {},
   "outputs": [],
   "source": [
    "def create_neural_net(input_shape):\n",
    "    model = Sequential([\n",
    "        Dense(input_shape, activation='relu', input_shape=(input_shape,)),\n",
    "        Dropout(0.2),\n",
    "        Dense(1, activation='sigmoid')\n",
    "    ])\n",
    "    model.compile(optimizer='adam', loss='binary_crossentropy', metrics=['accuracy'])\n",
    "    \n",
    "    return model"
   ]
  },
  {
   "cell_type": "code",
   "execution_count": 11,
   "id": "b29d652e",
   "metadata": {},
   "outputs": [],
   "source": [
    "text_cols = ['title', 'company_profile', 'description', 'requirements', 'benefits', 'fraudulent','title_tokens', 'company_profile_tokens',\n",
    "       'description_tokens', 'requirements_tokens', 'benefits_tokens']"
   ]
  },
  {
   "cell_type": "code",
   "execution_count": 12,
   "id": "8b25f911",
   "metadata": {},
   "outputs": [],
   "source": [
    "X_train_non_text = df_train.drop(columns=text_cols).values\n",
    "X_valid_non_text = df_valid.drop(columns=text_cols).values\n",
    "X_test_non_text = df_test.drop(columns=text_cols).values"
   ]
  },
  {
   "cell_type": "code",
   "execution_count": 13,
   "id": "8e5cc1ea",
   "metadata": {},
   "outputs": [],
   "source": [
    "X_train_non_text,_ = smote.fit_resample(X_train_non_text,y_train)"
   ]
  },
  {
   "cell_type": "code",
   "execution_count": 14,
   "id": "61244659",
   "metadata": {},
   "outputs": [],
   "source": [
    "model_title = create_neural_net(100)\n",
    "model_company_profile = create_neural_net(100)\n",
    "model_description = create_neural_net(100)\n",
    "model_requirements = create_neural_net(100)\n",
    "model_benefits = create_neural_net(100)\n",
    "model_non_text = create_neural_net(41)"
   ]
  },
  {
   "cell_type": "code",
   "execution_count": 15,
   "id": "b0163c61",
   "metadata": {},
   "outputs": [],
   "source": [
    "concatenated = concatenate([model_title.output, \n",
    "                            model_company_profile.output, \n",
    "                            model_description.output, \n",
    "                            model_requirements.output, \n",
    "                            model_benefits.output,\n",
    "                            model_non_text.output])\n",
    "\n",
    "\n",
    "dense = Dense(32, activation='relu')(concatenated)\n",
    "outputs = Dense(1, activation='sigmoid')(dense)\n",
    "\n",
    "final_model = Model(inputs=[model_title.input, \n",
    "                    model_company_profile.input, \n",
    "                    model_description.input, \n",
    "                    model_requirements.input, \n",
    "                    model_benefits.input,\n",
    "                    model_non_text.input], outputs=outputs)"
   ]
  },
  {
   "cell_type": "code",
   "execution_count": 16,
   "id": "4814e916",
   "metadata": {},
   "outputs": [],
   "source": [
    "final_model.compile(optimizer=tf.keras.optimizers.Adam(learning_rate=0.001), loss='binary_crossentropy', metrics=['accuracy'])"
   ]
  },
  {
   "cell_type": "code",
   "execution_count": 17,
   "id": "ba9107e6",
   "metadata": {
    "scrolled": true
   },
   "outputs": [
    {
     "name": "stdout",
     "output_type": "stream",
     "text": [
      "Epoch 1/100\n",
      "745/745 [==============================] - 3s 3ms/step - loss: 0.3921 - accuracy: 0.8214 - val_loss: 0.1750 - val_accuracy: 0.9295\n",
      "Epoch 2/100\n",
      "745/745 [==============================] - 2s 2ms/step - loss: 0.1640 - accuracy: 0.9411 - val_loss: 0.1306 - val_accuracy: 0.9448\n",
      "Epoch 3/100\n",
      "745/745 [==============================] - 2s 2ms/step - loss: 0.1108 - accuracy: 0.9620 - val_loss: 0.0986 - val_accuracy: 0.9631\n",
      "Epoch 4/100\n",
      "745/745 [==============================] - 2s 2ms/step - loss: 0.0815 - accuracy: 0.9721 - val_loss: 0.0928 - val_accuracy: 0.9664\n",
      "Epoch 5/100\n",
      "745/745 [==============================] - 2s 2ms/step - loss: 0.0596 - accuracy: 0.9809 - val_loss: 0.0957 - val_accuracy: 0.9657\n",
      "Epoch 6/100\n",
      "745/745 [==============================] - 2s 2ms/step - loss: 0.0463 - accuracy: 0.9853 - val_loss: 0.0918 - val_accuracy: 0.9698\n",
      "Epoch 7/100\n",
      "745/745 [==============================] - 2s 2ms/step - loss: 0.0364 - accuracy: 0.9888 - val_loss: 0.0824 - val_accuracy: 0.9758\n",
      "Epoch 8/100\n",
      "745/745 [==============================] - 2s 2ms/step - loss: 0.0282 - accuracy: 0.9911 - val_loss: 0.0858 - val_accuracy: 0.9776\n",
      "Epoch 9/100\n",
      "745/745 [==============================] - 2s 2ms/step - loss: 0.0224 - accuracy: 0.9932 - val_loss: 0.0903 - val_accuracy: 0.9773\n",
      "Epoch 10/100\n",
      "745/745 [==============================] - 2s 2ms/step - loss: 0.0196 - accuracy: 0.9942 - val_loss: 0.1033 - val_accuracy: 0.9728\n",
      "Epoch 11/100\n",
      "745/745 [==============================] - 2s 2ms/step - loss: 0.0171 - accuracy: 0.9948 - val_loss: 0.0953 - val_accuracy: 0.9799\n",
      "Epoch 12/100\n",
      "745/745 [==============================] - 2s 2ms/step - loss: 0.0148 - accuracy: 0.9956 - val_loss: 0.0984 - val_accuracy: 0.9765\n",
      "Epoch 13/100\n",
      "745/745 [==============================] - 2s 2ms/step - loss: 0.0129 - accuracy: 0.9966 - val_loss: 0.0995 - val_accuracy: 0.9784\n",
      "Epoch 14/100\n",
      "745/745 [==============================] - 2s 2ms/step - loss: 0.0106 - accuracy: 0.9969 - val_loss: 0.1042 - val_accuracy: 0.9784\n",
      "Epoch 15/100\n",
      "745/745 [==============================] - 2s 2ms/step - loss: 0.0096 - accuracy: 0.9970 - val_loss: 0.1092 - val_accuracy: 0.9814\n",
      "Epoch 16/100\n",
      "745/745 [==============================] - 2s 2ms/step - loss: 0.0116 - accuracy: 0.9962 - val_loss: 0.1107 - val_accuracy: 0.9773\n",
      "Epoch 17/100\n",
      "745/745 [==============================] - 2s 2ms/step - loss: 0.0071 - accuracy: 0.9980 - val_loss: 0.1199 - val_accuracy: 0.9776\n",
      "Epoch 17: early stopping\n"
     ]
    },
    {
     "data": {
      "text/plain": [
       "<keras.callbacks.History at 0x26bab8e0490>"
      ]
     },
     "execution_count": 17,
     "metadata": {},
     "output_type": "execute_result"
    }
   ],
   "source": [
    "early_stop = EarlyStopping(monitor='val_loss', patience=10, verbose=1, mode='min')\n",
    "\n",
    "final_model.fit([X_train_title,\n",
    "                X_train_company_profile,\n",
    "                X_train_description,\n",
    "                X_train_requirements,\n",
    "                X_train_benefits,\n",
    "                X_train_non_text], y_train_resampled, epochs=100, batch_size=32, callbacks=[early_stop],\n",
    "               validation_data=([X_valid_title,\n",
    "                X_valid_company_profile,\n",
    "                X_valid_description,\n",
    "                X_valid_requirements,\n",
    "                X_valid_benefits,\n",
    "                X_valid_non_text], y_valid))"
   ]
  },
  {
   "cell_type": "code",
   "execution_count": 18,
   "id": "2875b4ff",
   "metadata": {},
   "outputs": [],
   "source": [
    "def get_confusion_matrix(actual, predicted, title):\n",
    "    cf = metrics.confusion_matrix(actual, predicted)\n",
    "    group_names = ['True Negative','False Positive','False Negative','True Positive'] \n",
    "    group_counts = ['{0:0.0f}'.format(value) for value in cf.flatten()] \n",
    "\n",
    "    labels = [f'{v1}\\n{v2}' for v1, v2 in zip(group_names,group_counts)]\n",
    "    labels = np.asarray(labels).reshape(2,2)\n",
    "\n",
    "    s = sns.heatmap(cf, annot=labels, fmt='', cmap='Blues', xticklabels=['non fraud', 'fraud'], yticklabels=['non fraud', 'fraud'])\n",
    "    s.set(xlabel='Predictions', ylabel='True Labels', title=title)\n",
    "    return s"
   ]
  },
  {
   "cell_type": "code",
   "execution_count": 19,
   "id": "b00d3097",
   "metadata": {},
   "outputs": [
    {
     "name": "stdout",
     "output_type": "stream",
     "text": [
      "84/84 [==============================] - 0s 1ms/step\n"
     ]
    },
    {
     "data": {
      "text/plain": [
       "<AxesSubplot: xlabel='Predictions', ylabel='True Labels'>"
      ]
     },
     "execution_count": 19,
     "metadata": {},
     "output_type": "execute_result"
    },
    {
     "data": {
      "image/png": "[encoded data removed]",
      "text/plain": [
       "<Figure size 640x480 with 2 Axes>"
      ]
     },
     "metadata": {},
     "output_type": "display_data"
    }
   ],
   "source": [
    "y_pred = final_model.predict([X_test_title,\n",
    "                X_test_company_profile,\n",
    "                X_test_description,\n",
    "                X_test_requirements,\n",
    "                X_test_benefits,\n",
    "                X_test_non_text])\n",
    "\n",
    "final_output = []\n",
    "for x in y_pred:\n",
    "    if x<=0.5:\n",
    "        final_output.append([0])\n",
    "    else:\n",
    "        final_output.append([1])\n",
    "get_confusion_matrix(y_test, final_output, \"\")    "
   ]
  },
  {
   "cell_type": "code",
   "execution_count": 20,
   "id": "95fb094d",
   "metadata": {},
   "outputs": [
    {
     "data": {
      "text/html": [
       "<div>\n",
       "<style scoped>\n",
       "    .dataframe tbody tr th:only-of-type {\n",
       "        vertical-align: middle;\n",
       "    }\n",
       "\n",
       "    .dataframe tbody tr th {\n",
       "        vertical-align: top;\n",
       "    }\n",
       "\n",
       "    .dataframe thead th {\n",
       "        text-align: right;\n",
       "    }\n",
       "</style>\n",
       "<table border=\"1\" class=\"dataframe\">\n",
       "  <thead>\n",
       "    <tr style=\"text-align: right;\">\n",
       "      <th></th>\n",
       "      <th>Recall</th>\n",
       "      <th>Precision</th>\n",
       "      <th>F1-Score</th>\n",
       "      <th>Accuracy</th>\n",
       "      <th>ROC AUC</th>\n",
       "    </tr>\n",
       "  </thead>\n",
       "  <tbody>\n",
       "    <tr>\n",
       "      <th>0</th>\n",
       "      <td>0.823077</td>\n",
       "      <td>0.699346</td>\n",
       "      <td>0.756184</td>\n",
       "      <td>0.974273</td>\n",
       "      <td>0.902526</td>\n",
       "    </tr>\n",
       "  </tbody>\n",
       "</table>\n",
       "</div>"
      ],
      "text/plain": [
       "     Recall  Precision  F1-Score  Accuracy   ROC AUC\n",
       "0  0.823077   0.699346  0.756184  0.974273  0.902526"
      ]
     },
     "execution_count": 20,
     "metadata": {},
     "output_type": "execute_result"
    }
   ],
   "source": [
    "metrics = {\n",
    "    'Recall': [metrics.recall_score(y_test,final_output)],\n",
    "    'Precision': [metrics.precision_score(y_test,final_output)],\n",
    "    'F1-Score': [metrics.f1_score(y_test,final_output)],\n",
    "    'Accuracy': [metrics.accuracy_score(y_test,final_output)],\n",
    "    'ROC AUC': [metrics.roc_auc_score(y_test,final_output)],\n",
    "}\n",
    "\n",
    "df_metrics = pd.DataFrame(metrics)\n",
    "df_metrics"
   ]
  },
  {
   "cell_type": "code",
   "execution_count": null,
   "id": "ef48d449",
   "metadata": {},
   "outputs": [],
   "source": []
  }
 ],
 "metadata": {
  "kernelspec": {
   "display_name": "Python 3 (ipykernel)",
   "language": "python",
   "name": "python3"
  },
  "language_info": {
   "codemirror_mode": {
    "name": "ipython",
    "version": 3
   },
   "file_extension": ".py",
   "mimetype": "text/x-python",
   "name": "python",
   "nbconvert_exporter": "python",
   "pygments_lexer": "ipython3",
   "version": "3.10.7"
  }
 },
 "nbformat": 4,
 "nbformat_minor": 5
}
