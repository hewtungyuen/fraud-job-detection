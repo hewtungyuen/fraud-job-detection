{
 "cells": [
  {
   "cell_type": "code",
   "execution_count": 1,
   "id": "4c53c5fd",
   "metadata": {},
   "outputs": [],
   "source": [
    "import pandas as pd\n",
    "import math\n",
    "import re\n",
    "import matplotlib.pyplot as plt\n",
    "import seaborn as sns\n",
    "import numpy as np\n",
    "from xgboost import XGBClassifier\n",
    "\n",
    "from collections import Counter\n",
    "\n",
    "from imblearn.over_sampling import SMOTE\n",
    "from xgboost import XGBClassifier\n",
    "\n",
    "from sklearn.model_selection import train_test_split, GridSearchCV\n",
    "from sklearn import metrics\n",
    "from sklearn.linear_model import LogisticRegression\n",
    "\n",
    "RANDOM_STATE=4222"
   ]
  },
  {
   "cell_type": "code",
   "execution_count": 2,
   "id": "0c642d83",
   "metadata": {},
   "outputs": [],
   "source": [
    "df_train = pd.read_csv('./datasets/train.csv')\n",
    "df_valid = pd.read_csv('./datasets/valid.csv')\n",
    "df_test = pd.read_csv('./datasets/test.csv')"
   ]
  },
  {
   "cell_type": "code",
   "execution_count": 3,
   "id": "227e2467",
   "metadata": {},
   "outputs": [],
   "source": [
    "drop = ['Unnamed: 0','title', 'company_profile', 'description', 'requirements', 'benefits',\n",
    "       'title_tokens', 'company_profile_tokens', 'description_tokens',\n",
    "       'requirements_tokens', 'benefits_tokens']"
   ]
  },
  {
   "cell_type": "code",
   "execution_count": 4,
   "id": "8b98d832",
   "metadata": {},
   "outputs": [],
   "source": [
    "df_train.drop(columns=drop, inplace=True)\n",
    "df_valid.drop(columns=drop, inplace=True)\n",
    "df_test.drop(columns=drop, inplace=True)"
   ]
  },
  {
   "cell_type": "code",
   "execution_count": 5,
   "id": "6f029f28",
   "metadata": {},
   "outputs": [],
   "source": [
    "X_train = df_train.drop(columns=['fraudulent']).values\n",
    "y_train = df_train['fraudulent'].values\n",
    "\n",
    "X_valid = df_valid.drop(columns=['fraudulent']).values\n",
    "y_valid = df_valid['fraudulent'].values\n",
    "\n",
    "X_test = df_test.drop(columns=['fraudulent']).values\n",
    "y_test = df_test['fraudulent'].values"
   ]
  },
  {
   "cell_type": "code",
   "execution_count": 6,
   "id": "1cd2bf7c",
   "metadata": {},
   "outputs": [],
   "source": [
    "smote = SMOTE(random_state=RANDOM_STATE, sampling_strategy=0.5)\n",
    "X_train_resampled, y_train_resampled = smote.fit_resample(X_train,y_train)"
   ]
  },
  {
   "cell_type": "markdown",
   "id": "03097f67",
   "metadata": {},
   "source": [
    "### Applying XGBoost"
   ]
  },
  {
   "cell_type": "code",
   "execution_count": 7,
   "id": "58addb2b",
   "metadata": {},
   "outputs": [
    {
     "name": "stdout",
     "output_type": "stream",
     "text": [
      "[0]\tvalidation_0-rmse:0.46472\n",
      "[1]\tvalidation_0-rmse:0.43234\n",
      "[2]\tvalidation_0-rmse:0.40428\n",
      "[3]\tvalidation_0-rmse:0.37969\n",
      "[4]\tvalidation_0-rmse:0.35745\n",
      "[5]\tvalidation_0-rmse:0.36660\n",
      "[6]\tvalidation_0-rmse:0.35130\n",
      "[7]\tvalidation_0-rmse:0.33651\n",
      "[8]\tvalidation_0-rmse:0.34836\n",
      "[9]\tvalidation_0-rmse:0.33320\n",
      "[10]\tvalidation_0-rmse:0.31866\n",
      "[11]\tvalidation_0-rmse:0.30719\n",
      "[12]\tvalidation_0-rmse:0.29743\n",
      "[13]\tvalidation_0-rmse:0.28671\n",
      "[14]\tvalidation_0-rmse:0.27851\n",
      "[15]\tvalidation_0-rmse:0.26988\n",
      "[16]\tvalidation_0-rmse:0.26190\n",
      "[17]\tvalidation_0-rmse:0.25526\n",
      "[18]\tvalidation_0-rmse:0.24902\n",
      "[19]\tvalidation_0-rmse:0.24265\n",
      "[20]\tvalidation_0-rmse:0.23813\n",
      "[21]\tvalidation_0-rmse:0.23325\n",
      "[22]\tvalidation_0-rmse:0.22875\n",
      "[23]\tvalidation_0-rmse:0.22507\n",
      "[24]\tvalidation_0-rmse:0.23665\n",
      "[25]\tvalidation_0-rmse:0.24663\n",
      "[26]\tvalidation_0-rmse:0.24191\n",
      "[27]\tvalidation_0-rmse:0.23797\n",
      "[28]\tvalidation_0-rmse:0.23291\n",
      "[29]\tvalidation_0-rmse:0.22861\n",
      "[30]\tvalidation_0-rmse:0.23897\n",
      "[31]\tvalidation_0-rmse:0.25020\n",
      "[32]\tvalidation_0-rmse:0.24647\n",
      "[33]\tvalidation_0-rmse:0.25803\n",
      "[34]\tvalidation_0-rmse:0.26699\n",
      "[35]\tvalidation_0-rmse:0.27604\n",
      "[36]\tvalidation_0-rmse:0.28817\n",
      "[37]\tvalidation_0-rmse:0.28379\n",
      "[38]\tvalidation_0-rmse:0.27933\n",
      "[39]\tvalidation_0-rmse:0.28723\n",
      "[40]\tvalidation_0-rmse:0.29964\n",
      "[41]\tvalidation_0-rmse:0.30824\n",
      "[42]\tvalidation_0-rmse:0.30451\n",
      "[43]\tvalidation_0-rmse:0.30427\n",
      "[44]\tvalidation_0-rmse:0.30164\n",
      "[45]\tvalidation_0-rmse:0.31488\n",
      "[46]\tvalidation_0-rmse:0.32786\n",
      "[47]\tvalidation_0-rmse:0.32746\n",
      "[48]\tvalidation_0-rmse:0.33664\n",
      "[49]\tvalidation_0-rmse:0.33503\n",
      "[50]\tvalidation_0-rmse:0.33161\n",
      "[51]\tvalidation_0-rmse:0.34036\n",
      "[52]\tvalidation_0-rmse:0.33943\n",
      "[53]\tvalidation_0-rmse:0.33881\n",
      "[54]\tvalidation_0-rmse:0.33573\n",
      "[55]\tvalidation_0-rmse:0.33259\n",
      "[56]\tvalidation_0-rmse:0.33429\n",
      "[57]\tvalidation_0-rmse:0.33110\n",
      "[58]\tvalidation_0-rmse:0.33110\n",
      "[59]\tvalidation_0-rmse:0.33207\n",
      "[60]\tvalidation_0-rmse:0.32966\n",
      "[61]\tvalidation_0-rmse:0.32895\n",
      "[62]\tvalidation_0-rmse:0.34177\n",
      "[63]\tvalidation_0-rmse:0.33978\n",
      "[64]\tvalidation_0-rmse:0.33770\n",
      "[65]\tvalidation_0-rmse:0.33781\n",
      "[66]\tvalidation_0-rmse:0.33797\n",
      "[67]\tvalidation_0-rmse:0.33309\n",
      "[68]\tvalidation_0-rmse:0.33184\n",
      "[69]\tvalidation_0-rmse:0.34452\n",
      "[70]\tvalidation_0-rmse:0.34333\n",
      "[71]\tvalidation_0-rmse:0.34205\n",
      "[72]\tvalidation_0-rmse:0.33985\n",
      "[73]\tvalidation_0-rmse:0.35250\n"
     ]
    }
   ],
   "source": [
    "model = XGBClassifier(learning_rate=0.1, max_depth=7, n_estimators=500, early_stopping_rounds=50, eval_metric=\"rmse\")\n",
    "\n",
    "model.fit(X_train_resampled, y_train_resampled, eval_set=[(X_valid, y_valid)])\n",
    "y_pred = model.predict(X_test)"
   ]
  },
  {
   "cell_type": "code",
   "execution_count": 8,
   "id": "b0a2ddbe",
   "metadata": {},
   "outputs": [],
   "source": [
    "def get_confusion_matrix(actual, predicted, title):\n",
    "    cf = metrics.confusion_matrix(actual, predicted)\n",
    "    group_names = ['True Negative','False Positive','False Negative','True Positive'] \n",
    "    group_counts = ['{0:0.0f}'.format(value) for value in cf.flatten()] \n",
    "\n",
    "    labels = [f'{v1}\\n{v2}' for v1, v2 in zip(group_names,group_counts)]\n",
    "    labels = np.asarray(labels).reshape(2,2)\n",
    "\n",
    "    s = sns.heatmap(cf, annot=labels, fmt='', cmap='Blues', xticklabels=['non fraud', 'fraud'], yticklabels=['non fraud', 'fraud'])\n",
    "    s.set(xlabel='Predictions', ylabel='True Labels', title=title)\n",
    "    return s"
   ]
  },
  {
   "cell_type": "code",
   "execution_count": 9,
   "id": "f751309c",
   "metadata": {},
   "outputs": [
    {
     "data": {
      "text/plain": [
       "<AxesSubplot: title={'center': 'XGBoost'}, xlabel='Predictions', ylabel='True Labels'>"
      ]
     },
     "execution_count": 9,
     "metadata": {},
     "output_type": "execute_result"
    },
    {
     "data": {
      "image/png": "[encoded data removed]",
      "text/plain": [
       "<Figure size 640x480 with 2 Axes>"
      ]
     },
     "metadata": {},
     "output_type": "display_data"
    }
   ],
   "source": [
    "get_confusion_matrix(y_test, y_pred, \"XGBoost\")"
   ]
  },
  {
   "cell_type": "code",
   "execution_count": 10,
   "id": "a47ae5a8",
   "metadata": {},
   "outputs": [
    {
     "data": {
      "text/html": [
       "<div>\n",
       "<style scoped>\n",
       "    .dataframe tbody tr th:only-of-type {\n",
       "        vertical-align: middle;\n",
       "    }\n",
       "\n",
       "    .dataframe tbody tr th {\n",
       "        vertical-align: top;\n",
       "    }\n",
       "\n",
       "    .dataframe thead th {\n",
       "        text-align: right;\n",
       "    }\n",
       "</style>\n",
       "<table border=\"1\" class=\"dataframe\">\n",
       "  <thead>\n",
       "    <tr style=\"text-align: right;\">\n",
       "      <th></th>\n",
       "      <th>Precision</th>\n",
       "      <th>Recall</th>\n",
       "      <th>F1-Score</th>\n",
       "      <th>Accuracy</th>\n",
       "      <th>ROC AUC</th>\n",
       "    </tr>\n",
       "  </thead>\n",
       "  <tbody>\n",
       "    <tr>\n",
       "      <th>0</th>\n",
       "      <td>0.445415</td>\n",
       "      <td>0.784615</td>\n",
       "      <td>0.568245</td>\n",
       "      <td>0.942207</td>\n",
       "      <td>0.867425</td>\n",
       "    </tr>\n",
       "  </tbody>\n",
       "</table>\n",
       "</div>"
      ],
      "text/plain": [
       "   Precision    Recall  F1-Score  Accuracy   ROC AUC\n",
       "0   0.445415  0.784615  0.568245  0.942207  0.867425"
      ]
     },
     "execution_count": 10,
     "metadata": {},
     "output_type": "execute_result"
    }
   ],
   "source": [
    "d = {\n",
    "    'Precision': [metrics.precision_score(y_test,y_pred)],\n",
    "    'Recall': [metrics.recall_score(y_test,y_pred)],\n",
    "    'F1-Score': [metrics.f1_score(y_test,y_pred)],\n",
    "    'Accuracy': [metrics.accuracy_score(y_test,y_pred)],\n",
    "    'ROC AUC': [metrics.roc_auc_score(y_test,y_pred)],\n",
    "}\n",
    "\n",
    "df_metrics = pd.DataFrame(d)\n",
    "df_metrics"
   ]
  },
  {
   "cell_type": "code",
   "execution_count": null,
   "id": "c2ca4342",
   "metadata": {},
   "outputs": [],
   "source": []
  }
 ],
 "metadata": {
  "kernelspec": {
   "display_name": "Python 3 (ipykernel)",
   "language": "python",
   "name": "python3"
  },
  "language_info": {
   "codemirror_mode": {
    "name": "ipython",
    "version": 3
   },
   "file_extension": ".py",
   "mimetype": "text/x-python",
   "name": "python",
   "nbconvert_exporter": "python",
   "pygments_lexer": "ipython3",
   "version": "3.10.7"
  }
 },
 "nbformat": 4,
 "nbformat_minor": 5
}
