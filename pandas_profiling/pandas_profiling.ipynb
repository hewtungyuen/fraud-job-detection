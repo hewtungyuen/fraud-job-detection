{
 "cells": [
  {
   "cell_type": "code",
   "execution_count": 1,
   "id": "5e21f6b6",
   "metadata": {},
   "outputs": [
    {
     "name": "stderr",
     "output_type": "stream",
     "text": [
      "C:\\Users\\hewtu\\AppData\\Local\\Programs\\Python\\Python310\\lib\\site-packages\\tqdm\\auto.py:22: TqdmWarning: IProgress not found. Please update jupyter and ipywidgets. See https://ipywidgets.readthedocs.io/en/stable/user_install.html\n",
      "  from .autonotebook import tqdm as notebook_tqdm\n"
     ]
    }
   ],
   "source": [
    "import pandas as pd\n",
    "from ydata_profiling import ProfileReport"
   ]
  },
  {
   "cell_type": "code",
   "execution_count": 2,
   "id": "8fc9b0a6",
   "metadata": {},
   "outputs": [
    {
     "name": "stderr",
     "output_type": "stream",
     "text": [
      "Summarize dataset: 100%|████████████████████████████████████████████████████| 29/29 [00:11<00:00,  2.52it/s, Completed]\n",
      "Generate report structure: 100%|█████████████████████████████████████████████████████████| 1/1 [00:02<00:00,  2.99s/it]\n",
      "Render HTML: 100%|███████████████████████████████████████████████████████████████████████| 1/1 [00:00<00:00,  1.02it/s]\n",
      "Export report to file: 100%|████████████████████████████████████████████████████████████| 1/1 [00:00<00:00, 353.41it/s]\n"
     ]
    }
   ],
   "source": [
    "df = pd.read_csv(\"../datasets/fake_job_postings.csv\")\n",
    "profile = ProfileReport(df)\n",
    "profile.to_file(\"./fake_job_postings.html\")"
   ]
  },
  {
   "cell_type": "code",
   "execution_count": 3,
   "id": "b46e68c8",
   "metadata": {},
   "outputs": [
    {
     "name": "stderr",
     "output_type": "stream",
     "text": [
      "Summarize dataset: 100%|██████████████████████████████████████████████████| 351/351 [00:55<00:00,  6.30it/s, Completed]\n",
      "Generate report structure: 100%|█████████████████████████████████████████████████████████| 1/1 [00:10<00:00, 10.29s/it]\n",
      "Render HTML: 100%|███████████████████████████████████████████████████████████████████████| 1/1 [00:06<00:00,  6.96s/it]\n",
      "Export report to file: 100%|█████████████████████████████████████████████████████████████| 1/1 [00:00<00:00, 19.33it/s]\n"
     ]
    }
   ],
   "source": [
    "df = pd.read_csv(\"../datasets/cleaned.csv\")\n",
    "profile = ProfileReport(df)\n",
    "profile.to_file(\"./cleaned.html\")"
   ]
  },
  {
   "cell_type": "code",
   "execution_count": null,
   "id": "9ac4c637",
   "metadata": {},
   "outputs": [],
   "source": []
  }
 ],
 "metadata": {
  "kernelspec": {
   "display_name": "Python 3 (ipykernel)",
   "language": "python",
   "name": "python3"
  },
  "language_info": {
   "codemirror_mode": {
    "name": "ipython",
    "version": 3
   },
   "file_extension": ".py",
   "mimetype": "text/x-python",
   "name": "python",
   "nbconvert_exporter": "python",
   "pygments_lexer": "ipython3",
   "version": "3.10.7"
  }
 },
 "nbformat": 4,
 "nbformat_minor": 5
}
